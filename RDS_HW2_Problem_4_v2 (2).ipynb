{
  "nbformat": 4,
  "nbformat_minor": 0,
  "metadata": {
    "colab": {
      "provenance": [],
      "gpuType": "A100"
    },
    "kernelspec": {
      "name": "python3",
      "display_name": "Python 3"
    },
    "language_info": {
      "name": "python"
    },
    "accelerator": "GPU"
  },
  "cells": [
    {
      "cell_type": "markdown",
      "source": [
        "# **HW 2 Problem 4 - Explainability with ShaRP**"
      ],
      "metadata": {
        "id": "jTFz1Gbt0TbP"
      }
    },
    {
      "cell_type": "markdown",
      "source": [
        "# Explaining lending decisions using ShaRP\n",
        "\n",
        "When multiple people apply for a loan, banks need to select who to fund. They do so by calculating how likely a person is to repay the loan and then select among the most likely. This process is a ranking process that ShaRP, a tool we saw in the lab, can explain."
      ],
      "metadata": {
        "id": "GiOcE_092dob"
      }
    },
    {
      "cell_type": "markdown",
      "source": [
        "To calculate feature importance, we will use ShaRP, a tool we've seen in the lab. For more information about the method, see the [full paper](https://arxiv.org/abs/2401.16744), and for more information about the toolkit see the [documentation](https://dataresponsibly.github.io/ShaRP/)."
      ],
      "metadata": {
        "id": "UwNmvX2p4lb8"
      }
    },
    {
      "cell_type": "markdown",
      "source": [
        "#1. Import Statements\n",
        "\n",
        "First we install `ShaRP` and the necessary packages for this problem"
      ],
      "metadata": {
        "id": "URXJ40r94iCF"
      }
    },
    {
      "cell_type": "code",
      "execution_count": 2,
      "metadata": {
        "colab": {
          "base_uri": "https://localhost:8080/"
        },
        "id": "8Q7ejpLGYBDq",
        "outputId": "b69b29a1-a277-4643-967b-297ab7498c9d"
      },
      "outputs": [
        {
          "output_type": "stream",
          "name": "stdout",
          "text": [
            "Collecting folktables\n",
            "  Downloading folktables-0.0.12-py3-none-any.whl.metadata (533 bytes)\n",
            "Requirement already satisfied: numpy in /usr/local/lib/python3.11/dist-packages (from folktables) (2.0.2)\n",
            "Requirement already satisfied: pandas in /usr/local/lib/python3.11/dist-packages (from folktables) (2.2.2)\n",
            "Requirement already satisfied: requests in /usr/local/lib/python3.11/dist-packages (from folktables) (2.32.3)\n",
            "Requirement already satisfied: scikit-learn in /usr/local/lib/python3.11/dist-packages (from folktables) (1.6.1)\n",
            "Requirement already satisfied: python-dateutil>=2.8.2 in /usr/local/lib/python3.11/dist-packages (from pandas->folktables) (2.8.2)\n",
            "Requirement already satisfied: pytz>=2020.1 in /usr/local/lib/python3.11/dist-packages (from pandas->folktables) (2025.2)\n",
            "Requirement already satisfied: tzdata>=2022.7 in /usr/local/lib/python3.11/dist-packages (from pandas->folktables) (2025.2)\n",
            "Requirement already satisfied: charset-normalizer<4,>=2 in /usr/local/lib/python3.11/dist-packages (from requests->folktables) (3.4.1)\n",
            "Requirement already satisfied: idna<4,>=2.5 in /usr/local/lib/python3.11/dist-packages (from requests->folktables) (3.10)\n",
            "Requirement already satisfied: urllib3<3,>=1.21.1 in /usr/local/lib/python3.11/dist-packages (from requests->folktables) (2.3.0)\n",
            "Requirement already satisfied: certifi>=2017.4.17 in /usr/local/lib/python3.11/dist-packages (from requests->folktables) (2025.1.31)\n",
            "Requirement already satisfied: scipy>=1.6.0 in /usr/local/lib/python3.11/dist-packages (from scikit-learn->folktables) (1.14.1)\n",
            "Requirement already satisfied: joblib>=1.2.0 in /usr/local/lib/python3.11/dist-packages (from scikit-learn->folktables) (1.4.2)\n",
            "Requirement already satisfied: threadpoolctl>=3.1.0 in /usr/local/lib/python3.11/dist-packages (from scikit-learn->folktables) (3.6.0)\n",
            "Requirement already satisfied: six>=1.5 in /usr/local/lib/python3.11/dist-packages (from python-dateutil>=2.8.2->pandas->folktables) (1.17.0)\n",
            "Downloading folktables-0.0.12-py3-none-any.whl (17 kB)\n",
            "Installing collected packages: folktables\n",
            "Successfully installed folktables-0.0.12\n",
            "Collecting git+https://github.com/DataResponsibly/ShaRP.git\n",
            "  Cloning https://github.com/DataResponsibly/ShaRP.git to /tmp/pip-req-build-co9ijors\n",
            "  Running command git clone --filter=blob:none --quiet https://github.com/DataResponsibly/ShaRP.git /tmp/pip-req-build-co9ijors\n",
            "  Resolved https://github.com/DataResponsibly/ShaRP.git to commit 7c7f698559af21eb854e769b03cac73bc2e39dd5\n",
            "  Preparing metadata (setup.py) ... \u001b[?25l\u001b[?25hdone\n",
            "Requirement already satisfied: numpy>=1.20.0 in /usr/local/lib/python3.11/dist-packages (from xai-sharp==0.1.0) (2.0.2)\n",
            "Requirement already satisfied: pandas>=1.3.5 in /usr/local/lib/python3.11/dist-packages (from xai-sharp==0.1.0) (2.2.2)\n",
            "Requirement already satisfied: scikit-learn>=1.2.0 in /usr/local/lib/python3.11/dist-packages (from xai-sharp==0.1.0) (1.6.1)\n",
            "Requirement already satisfied: tqdm>=4.46.0 in /usr/local/lib/python3.11/dist-packages (from xai-sharp==0.1.0) (4.67.1)\n",
            "Requirement already satisfied: python-dateutil>=2.8.2 in /usr/local/lib/python3.11/dist-packages (from pandas>=1.3.5->xai-sharp==0.1.0) (2.8.2)\n",
            "Requirement already satisfied: pytz>=2020.1 in /usr/local/lib/python3.11/dist-packages (from pandas>=1.3.5->xai-sharp==0.1.0) (2025.2)\n",
            "Requirement already satisfied: tzdata>=2022.7 in /usr/local/lib/python3.11/dist-packages (from pandas>=1.3.5->xai-sharp==0.1.0) (2025.2)\n",
            "Requirement already satisfied: scipy>=1.6.0 in /usr/local/lib/python3.11/dist-packages (from scikit-learn>=1.2.0->xai-sharp==0.1.0) (1.14.1)\n",
            "Requirement already satisfied: joblib>=1.2.0 in /usr/local/lib/python3.11/dist-packages (from scikit-learn>=1.2.0->xai-sharp==0.1.0) (1.4.2)\n",
            "Requirement already satisfied: threadpoolctl>=3.1.0 in /usr/local/lib/python3.11/dist-packages (from scikit-learn>=1.2.0->xai-sharp==0.1.0) (3.6.0)\n",
            "Requirement already satisfied: six>=1.5 in /usr/local/lib/python3.11/dist-packages (from python-dateutil>=2.8.2->pandas>=1.3.5->xai-sharp==0.1.0) (1.17.0)\n",
            "Building wheels for collected packages: xai-sharp\n",
            "  Building wheel for xai-sharp (setup.py) ... \u001b[?25l\u001b[?25hdone\n",
            "  Created wheel for xai-sharp: filename=xai_sharp-0.1.0-py3-none-any.whl size=41289 sha256=1648a4fc71c7e50ca5b2959e931530e3594f89b8e9dd7f846d452f3e91371a9c\n",
            "  Stored in directory: /tmp/pip-ephem-wheel-cache-qq9nmyhf/wheels/c5/7f/04/1a503d93dd4279042b196829ae106ea0025ccf8ea9791c97d3\n",
            "Successfully built xai-sharp\n",
            "Installing collected packages: xai-sharp\n",
            "Successfully installed xai-sharp-0.1.0\n"
          ]
        }
      ],
      "source": [
        "# Data\n",
        "!pip install folktables\n",
        "# ShaRP\n",
        "!pip install git+https://github.com/DataResponsibly/ShaRP.git"
      ]
    },
    {
      "cell_type": "code",
      "source": [
        "#@markdown Import statments\n",
        "from folktables import ACSDataSource, ACSIncome\n",
        "\n",
        "import numpy as np\n",
        "\n",
        "import pandas as pd\n",
        "\n",
        "import matplotlib.pyplot as plt\n",
        "import matplotlib.ticker as mtick\n",
        "import matplotlib.ticker as ticker\n",
        "\n",
        "import seaborn as sns\n",
        "\n",
        "import math\n",
        "\n",
        "from sklearn.model_selection import train_test_split\n",
        "from sklearn.preprocessing import StandardScaler, MinMaxScaler\n",
        "from sklearn.linear_model import LogisticRegression\n",
        "\n",
        "from sharp import ShaRP\n",
        "from sharp.utils import scores_to_ordering"
      ],
      "metadata": {
        "id": "ulyDUxyiYM-E"
      },
      "execution_count": 3,
      "outputs": []
    },
    {
      "cell_type": "markdown",
      "source": [
        "#2. Load Data\n",
        "\n",
        "Next, we will load the ACSIncome dataset from the Folktables benchmark --- this is the same dataset used in Lab 2, 3 and 9.  Folktables is based from US Census Data and is built to solve a few simple prediction tasks. The sample we pull is data from 2018 in California. The column names are described in the table below. Note that certain categorical variables have been mapped to integer values, which we will keep as-is for the following analyses."
      ],
      "metadata": {
        "id": "A8FHA1kD44UC"
      }
    },
    {
      "cell_type": "markdown",
      "source": [
        "## Data profiling\n",
        "\n",
        "| Column Name | Feature | Description/Notes |\n",
        "| --- | ----------- | --- |\n",
        "| PINCP | Total person’s income | (Target) 1 if >= $50k, 0 if less |\n",
        "| SEX | Sex | (Sensitive Attribute) Male=1, Female=2 |\n",
        "| RAC1P | Race | (Sensitive Attribute) White=1, Black=2, Other races are between 3 and 9 |\n",
        "| AGEP | Age | Ranges from 0-99 |\n",
        "| COW | Class of Worker | Ranges 1-9, see paper for description |\n",
        "| SCHL | Education Level | Ranges 1-24, see paper for description |\n",
        "| MAR | Marital Status | Ranges 1-5, see paper for description |\n",
        "| OCCP | Occupation | Codes taken from Public Use Microdata Sample (PUMS) from the US Census, see paper |\n",
        "| POBP | Place of Birth | Codes taken from Public Use Microdata Sample (PUMS) from the US Census, see paper |\n",
        "| RELP | Relationship | Relationship of individual to person who responded to the Census taker. Ranges 0-17, see paper for description |\n",
        "| WKHP | Hours worked per week | Ranges from 0-99, averaged over previous year |"
      ],
      "metadata": {
        "id": "h3bNDwQ85BIM"
      }
    },
    {
      "cell_type": "code",
      "source": [
        "#@markdown Import data\n",
        "# data_source = ACSDataSource(survey_year='2018', horizon='1-Year', survey='person')\n",
        "# acs_data = data_source.get_data(states=[\"CA\"], download=True)\n",
        "\n",
        "import gdown\n",
        "# Replace with your actual file ID from the Google Drive link\n",
        "file_id = '12fp-280VSQQimkZ7WmMBlrCwWlvsJVxJ'\n",
        "# Construct the downloadable URL\n",
        "url = f'https://drive.google.com/uc?id={file_id}'\n",
        "# Download the file\n",
        "gdown.download(url, 'downloaded_file.csv', quiet=False)\n",
        "# Read the CSV file\n",
        "acs_data = pd.read_csv('downloaded_file.csv')\n",
        "\n",
        "features = ACSIncome.features\n",
        "target_name = ACSIncome.target\n",
        "data = acs_data.sample(1000, random_state=39)[features+list([target_name])]\n",
        "\n",
        "print(data.shape)\n",
        "data.head()"
      ],
      "metadata": {
        "colab": {
          "base_uri": "https://localhost:8080/",
          "height": 333
        },
        "id": "zAvcY-VRYSDM",
        "outputId": "66c8f1e1-6371-463f-d620-af07e445b654"
      },
      "execution_count": 4,
      "outputs": [
        {
          "output_type": "stream",
          "name": "stderr",
          "text": [
            "Downloading...\n",
            "From (original): https://drive.google.com/uc?id=12fp-280VSQQimkZ7WmMBlrCwWlvsJVxJ\n",
            "From (redirected): https://drive.google.com/uc?id=12fp-280VSQQimkZ7WmMBlrCwWlvsJVxJ&confirm=t&uuid=a6fd0f42-6a49-474f-9499-e0b12ed95858\n",
            "To: /content/downloaded_file.csv\n",
            "100%|██████████| 267M/267M [00:01<00:00, 259MB/s]\n"
          ]
        },
        {
          "output_type": "stream",
          "name": "stdout",
          "text": [
            "(1000, 11)\n"
          ]
        },
        {
          "output_type": "execute_result",
          "data": {
            "text/plain": [
              "        AGEP  COW  SCHL  MAR    OCCP  POBP  RELP  WKHP  SEX  RAC1P    PINCP\n",
              "123170    40  1.0  12.0    4  9640.0   303     0  40.0    2      8   6300.0\n",
              "366093    40  3.0  16.0    5  5240.0   316    10  40.0    2      8  36000.0\n",
              "279966    37  1.0  20.0    5  5000.0   303     5   NaN    2      1      0.0\n",
              "206601    50  1.0  16.0    1  7700.0   206     1  56.0    1      6  48000.0\n",
              "96394     26  7.0  19.0    5  7200.0   216     2  50.0    1      1  60000.0"
            ],
            "text/html": [
              "\n",
              "  <div id=\"df-3382ab65-dcdd-4521-a01f-d3ee9d09b2ea\" class=\"colab-df-container\">\n",
              "    <div>\n",
              "<style scoped>\n",
              "    .dataframe tbody tr th:only-of-type {\n",
              "        vertical-align: middle;\n",
              "    }\n",
              "\n",
              "    .dataframe tbody tr th {\n",
              "        vertical-align: top;\n",
              "    }\n",
              "\n",
              "    .dataframe thead th {\n",
              "        text-align: right;\n",
              "    }\n",
              "</style>\n",
              "<table border=\"1\" class=\"dataframe\">\n",
              "  <thead>\n",
              "    <tr style=\"text-align: right;\">\n",
              "      <th></th>\n",
              "      <th>AGEP</th>\n",
              "      <th>COW</th>\n",
              "      <th>SCHL</th>\n",
              "      <th>MAR</th>\n",
              "      <th>OCCP</th>\n",
              "      <th>POBP</th>\n",
              "      <th>RELP</th>\n",
              "      <th>WKHP</th>\n",
              "      <th>SEX</th>\n",
              "      <th>RAC1P</th>\n",
              "      <th>PINCP</th>\n",
              "    </tr>\n",
              "  </thead>\n",
              "  <tbody>\n",
              "    <tr>\n",
              "      <th>123170</th>\n",
              "      <td>40</td>\n",
              "      <td>1.0</td>\n",
              "      <td>12.0</td>\n",
              "      <td>4</td>\n",
              "      <td>9640.0</td>\n",
              "      <td>303</td>\n",
              "      <td>0</td>\n",
              "      <td>40.0</td>\n",
              "      <td>2</td>\n",
              "      <td>8</td>\n",
              "      <td>6300.0</td>\n",
              "    </tr>\n",
              "    <tr>\n",
              "      <th>366093</th>\n",
              "      <td>40</td>\n",
              "      <td>3.0</td>\n",
              "      <td>16.0</td>\n",
              "      <td>5</td>\n",
              "      <td>5240.0</td>\n",
              "      <td>316</td>\n",
              "      <td>10</td>\n",
              "      <td>40.0</td>\n",
              "      <td>2</td>\n",
              "      <td>8</td>\n",
              "      <td>36000.0</td>\n",
              "    </tr>\n",
              "    <tr>\n",
              "      <th>279966</th>\n",
              "      <td>37</td>\n",
              "      <td>1.0</td>\n",
              "      <td>20.0</td>\n",
              "      <td>5</td>\n",
              "      <td>5000.0</td>\n",
              "      <td>303</td>\n",
              "      <td>5</td>\n",
              "      <td>NaN</td>\n",
              "      <td>2</td>\n",
              "      <td>1</td>\n",
              "      <td>0.0</td>\n",
              "    </tr>\n",
              "    <tr>\n",
              "      <th>206601</th>\n",
              "      <td>50</td>\n",
              "      <td>1.0</td>\n",
              "      <td>16.0</td>\n",
              "      <td>1</td>\n",
              "      <td>7700.0</td>\n",
              "      <td>206</td>\n",
              "      <td>1</td>\n",
              "      <td>56.0</td>\n",
              "      <td>1</td>\n",
              "      <td>6</td>\n",
              "      <td>48000.0</td>\n",
              "    </tr>\n",
              "    <tr>\n",
              "      <th>96394</th>\n",
              "      <td>26</td>\n",
              "      <td>7.0</td>\n",
              "      <td>19.0</td>\n",
              "      <td>5</td>\n",
              "      <td>7200.0</td>\n",
              "      <td>216</td>\n",
              "      <td>2</td>\n",
              "      <td>50.0</td>\n",
              "      <td>1</td>\n",
              "      <td>1</td>\n",
              "      <td>60000.0</td>\n",
              "    </tr>\n",
              "  </tbody>\n",
              "</table>\n",
              "</div>\n",
              "    <div class=\"colab-df-buttons\">\n",
              "\n",
              "  <div class=\"colab-df-container\">\n",
              "    <button class=\"colab-df-convert\" onclick=\"convertToInteractive('df-3382ab65-dcdd-4521-a01f-d3ee9d09b2ea')\"\n",
              "            title=\"Convert this dataframe to an interactive table.\"\n",
              "            style=\"display:none;\">\n",
              "\n",
              "  <svg xmlns=\"http://www.w3.org/2000/svg\" height=\"24px\" viewBox=\"0 -960 960 960\">\n",
              "    <path d=\"M120-120v-720h720v720H120Zm60-500h600v-160H180v160Zm220 220h160v-160H400v160Zm0 220h160v-160H400v160ZM180-400h160v-160H180v160Zm440 0h160v-160H620v160ZM180-180h160v-160H180v160Zm440 0h160v-160H620v160Z\"/>\n",
              "  </svg>\n",
              "    </button>\n",
              "\n",
              "  <style>\n",
              "    .colab-df-container {\n",
              "      display:flex;\n",
              "      gap: 12px;\n",
              "    }\n",
              "\n",
              "    .colab-df-convert {\n",
              "      background-color: #E8F0FE;\n",
              "      border: none;\n",
              "      border-radius: 50%;\n",
              "      cursor: pointer;\n",
              "      display: none;\n",
              "      fill: #1967D2;\n",
              "      height: 32px;\n",
              "      padding: 0 0 0 0;\n",
              "      width: 32px;\n",
              "    }\n",
              "\n",
              "    .colab-df-convert:hover {\n",
              "      background-color: #E2EBFA;\n",
              "      box-shadow: 0px 1px 2px rgba(60, 64, 67, 0.3), 0px 1px 3px 1px rgba(60, 64, 67, 0.15);\n",
              "      fill: #174EA6;\n",
              "    }\n",
              "\n",
              "    .colab-df-buttons div {\n",
              "      margin-bottom: 4px;\n",
              "    }\n",
              "\n",
              "    [theme=dark] .colab-df-convert {\n",
              "      background-color: #3B4455;\n",
              "      fill: #D2E3FC;\n",
              "    }\n",
              "\n",
              "    [theme=dark] .colab-df-convert:hover {\n",
              "      background-color: #434B5C;\n",
              "      box-shadow: 0px 1px 3px 1px rgba(0, 0, 0, 0.15);\n",
              "      filter: drop-shadow(0px 1px 2px rgba(0, 0, 0, 0.3));\n",
              "      fill: #FFFFFF;\n",
              "    }\n",
              "  </style>\n",
              "\n",
              "    <script>\n",
              "      const buttonEl =\n",
              "        document.querySelector('#df-3382ab65-dcdd-4521-a01f-d3ee9d09b2ea button.colab-df-convert');\n",
              "      buttonEl.style.display =\n",
              "        google.colab.kernel.accessAllowed ? 'block' : 'none';\n",
              "\n",
              "      async function convertToInteractive(key) {\n",
              "        const element = document.querySelector('#df-3382ab65-dcdd-4521-a01f-d3ee9d09b2ea');\n",
              "        const dataTable =\n",
              "          await google.colab.kernel.invokeFunction('convertToInteractive',\n",
              "                                                    [key], {});\n",
              "        if (!dataTable) return;\n",
              "\n",
              "        const docLinkHtml = 'Like what you see? Visit the ' +\n",
              "          '<a target=\"_blank\" href=https://colab.research.google.com/notebooks/data_table.ipynb>data table notebook</a>'\n",
              "          + ' to learn more about interactive tables.';\n",
              "        element.innerHTML = '';\n",
              "        dataTable['output_type'] = 'display_data';\n",
              "        await google.colab.output.renderOutput(dataTable, element);\n",
              "        const docLink = document.createElement('div');\n",
              "        docLink.innerHTML = docLinkHtml;\n",
              "        element.appendChild(docLink);\n",
              "      }\n",
              "    </script>\n",
              "  </div>\n",
              "\n",
              "\n",
              "<div id=\"df-34d8a742-ebd1-414e-bf46-4e874cf1a6a5\">\n",
              "  <button class=\"colab-df-quickchart\" onclick=\"quickchart('df-34d8a742-ebd1-414e-bf46-4e874cf1a6a5')\"\n",
              "            title=\"Suggest charts\"\n",
              "            style=\"display:none;\">\n",
              "\n",
              "<svg xmlns=\"http://www.w3.org/2000/svg\" height=\"24px\"viewBox=\"0 0 24 24\"\n",
              "     width=\"24px\">\n",
              "    <g>\n",
              "        <path d=\"M19 3H5c-1.1 0-2 .9-2 2v14c0 1.1.9 2 2 2h14c1.1 0 2-.9 2-2V5c0-1.1-.9-2-2-2zM9 17H7v-7h2v7zm4 0h-2V7h2v10zm4 0h-2v-4h2v4z\"/>\n",
              "    </g>\n",
              "</svg>\n",
              "  </button>\n",
              "\n",
              "<style>\n",
              "  .colab-df-quickchart {\n",
              "      --bg-color: #E8F0FE;\n",
              "      --fill-color: #1967D2;\n",
              "      --hover-bg-color: #E2EBFA;\n",
              "      --hover-fill-color: #174EA6;\n",
              "      --disabled-fill-color: #AAA;\n",
              "      --disabled-bg-color: #DDD;\n",
              "  }\n",
              "\n",
              "  [theme=dark] .colab-df-quickchart {\n",
              "      --bg-color: #3B4455;\n",
              "      --fill-color: #D2E3FC;\n",
              "      --hover-bg-color: #434B5C;\n",
              "      --hover-fill-color: #FFFFFF;\n",
              "      --disabled-bg-color: #3B4455;\n",
              "      --disabled-fill-color: #666;\n",
              "  }\n",
              "\n",
              "  .colab-df-quickchart {\n",
              "    background-color: var(--bg-color);\n",
              "    border: none;\n",
              "    border-radius: 50%;\n",
              "    cursor: pointer;\n",
              "    display: none;\n",
              "    fill: var(--fill-color);\n",
              "    height: 32px;\n",
              "    padding: 0;\n",
              "    width: 32px;\n",
              "  }\n",
              "\n",
              "  .colab-df-quickchart:hover {\n",
              "    background-color: var(--hover-bg-color);\n",
              "    box-shadow: 0 1px 2px rgba(60, 64, 67, 0.3), 0 1px 3px 1px rgba(60, 64, 67, 0.15);\n",
              "    fill: var(--button-hover-fill-color);\n",
              "  }\n",
              "\n",
              "  .colab-df-quickchart-complete:disabled,\n",
              "  .colab-df-quickchart-complete:disabled:hover {\n",
              "    background-color: var(--disabled-bg-color);\n",
              "    fill: var(--disabled-fill-color);\n",
              "    box-shadow: none;\n",
              "  }\n",
              "\n",
              "  .colab-df-spinner {\n",
              "    border: 2px solid var(--fill-color);\n",
              "    border-color: transparent;\n",
              "    border-bottom-color: var(--fill-color);\n",
              "    animation:\n",
              "      spin 1s steps(1) infinite;\n",
              "  }\n",
              "\n",
              "  @keyframes spin {\n",
              "    0% {\n",
              "      border-color: transparent;\n",
              "      border-bottom-color: var(--fill-color);\n",
              "      border-left-color: var(--fill-color);\n",
              "    }\n",
              "    20% {\n",
              "      border-color: transparent;\n",
              "      border-left-color: var(--fill-color);\n",
              "      border-top-color: var(--fill-color);\n",
              "    }\n",
              "    30% {\n",
              "      border-color: transparent;\n",
              "      border-left-color: var(--fill-color);\n",
              "      border-top-color: var(--fill-color);\n",
              "      border-right-color: var(--fill-color);\n",
              "    }\n",
              "    40% {\n",
              "      border-color: transparent;\n",
              "      border-right-color: var(--fill-color);\n",
              "      border-top-color: var(--fill-color);\n",
              "    }\n",
              "    60% {\n",
              "      border-color: transparent;\n",
              "      border-right-color: var(--fill-color);\n",
              "    }\n",
              "    80% {\n",
              "      border-color: transparent;\n",
              "      border-right-color: var(--fill-color);\n",
              "      border-bottom-color: var(--fill-color);\n",
              "    }\n",
              "    90% {\n",
              "      border-color: transparent;\n",
              "      border-bottom-color: var(--fill-color);\n",
              "    }\n",
              "  }\n",
              "</style>\n",
              "\n",
              "  <script>\n",
              "    async function quickchart(key) {\n",
              "      const quickchartButtonEl =\n",
              "        document.querySelector('#' + key + ' button');\n",
              "      quickchartButtonEl.disabled = true;  // To prevent multiple clicks.\n",
              "      quickchartButtonEl.classList.add('colab-df-spinner');\n",
              "      try {\n",
              "        const charts = await google.colab.kernel.invokeFunction(\n",
              "            'suggestCharts', [key], {});\n",
              "      } catch (error) {\n",
              "        console.error('Error during call to suggestCharts:', error);\n",
              "      }\n",
              "      quickchartButtonEl.classList.remove('colab-df-spinner');\n",
              "      quickchartButtonEl.classList.add('colab-df-quickchart-complete');\n",
              "    }\n",
              "    (() => {\n",
              "      let quickchartButtonEl =\n",
              "        document.querySelector('#df-34d8a742-ebd1-414e-bf46-4e874cf1a6a5 button');\n",
              "      quickchartButtonEl.style.display =\n",
              "        google.colab.kernel.accessAllowed ? 'block' : 'none';\n",
              "    })();\n",
              "  </script>\n",
              "</div>\n",
              "\n",
              "    </div>\n",
              "  </div>\n"
            ],
            "application/vnd.google.colaboratory.intrinsic+json": {
              "type": "dataframe",
              "variable_name": "data",
              "summary": "{\n  \"name\": \"data\",\n  \"rows\": 1000,\n  \"fields\": [\n    {\n      \"column\": \"AGEP\",\n      \"properties\": {\n        \"dtype\": \"number\",\n        \"std\": 22,\n        \"min\": 0,\n        \"max\": 94,\n        \"num_unique_values\": 91,\n        \"samples\": [\n          9,\n          18,\n          49\n        ],\n        \"semantic_type\": \"\",\n        \"description\": \"\"\n      }\n    },\n    {\n      \"column\": \"COW\",\n      \"properties\": {\n        \"dtype\": \"number\",\n        \"std\": 2.034522429799689,\n        \"min\": 1.0,\n        \"max\": 9.0,\n        \"num_unique_values\": 9,\n        \"samples\": [\n          4.0,\n          3.0,\n          2.0\n        ],\n        \"semantic_type\": \"\",\n        \"description\": \"\"\n      }\n    },\n    {\n      \"column\": \"SCHL\",\n      \"properties\": {\n        \"dtype\": \"number\",\n        \"std\": 6.037273143853483,\n        \"min\": 1.0,\n        \"max\": 24.0,\n        \"num_unique_values\": 24,\n        \"samples\": [\n          1.0,\n          24.0,\n          12.0\n        ],\n        \"semantic_type\": \"\",\n        \"description\": \"\"\n      }\n    },\n    {\n      \"column\": \"MAR\",\n      \"properties\": {\n        \"dtype\": \"number\",\n        \"std\": 1,\n        \"min\": 1,\n        \"max\": 5,\n        \"num_unique_values\": 5,\n        \"samples\": [\n          5,\n          2,\n          1\n        ],\n        \"semantic_type\": \"\",\n        \"description\": \"\"\n      }\n    },\n    {\n      \"column\": \"OCCP\",\n      \"properties\": {\n        \"dtype\": \"number\",\n        \"std\": 2733.3828487097476,\n        \"min\": 10.0,\n        \"max\": 9920.0,\n        \"num_unique_values\": 201,\n        \"samples\": [\n          7210.0,\n          10.0,\n          7020.0\n        ],\n        \"semantic_type\": \"\",\n        \"description\": \"\"\n      }\n    },\n    {\n      \"column\": \"POBP\",\n      \"properties\": {\n        \"dtype\": \"number\",\n        \"std\": 122,\n        \"min\": 4,\n        \"max\": 508,\n        \"num_unique_values\": 97,\n        \"samples\": [\n          32,\n          449,\n          129\n        ],\n        \"semantic_type\": \"\",\n        \"description\": \"\"\n      }\n    },\n    {\n      \"column\": \"RELP\",\n      \"properties\": {\n        \"dtype\": \"number\",\n        \"std\": 4,\n        \"min\": 0,\n        \"max\": 17,\n        \"num_unique_values\": 17,\n        \"samples\": [\n          0,\n          10,\n          4\n        ],\n        \"semantic_type\": \"\",\n        \"description\": \"\"\n      }\n    },\n    {\n      \"column\": \"WKHP\",\n      \"properties\": {\n        \"dtype\": \"number\",\n        \"std\": 13.015026186600014,\n        \"min\": 1.0,\n        \"max\": 99.0,\n        \"num_unique_values\": 48,\n        \"samples\": [\n          72.0,\n          33.0,\n          24.0\n        ],\n        \"semantic_type\": \"\",\n        \"description\": \"\"\n      }\n    },\n    {\n      \"column\": \"SEX\",\n      \"properties\": {\n        \"dtype\": \"number\",\n        \"std\": 0,\n        \"min\": 1,\n        \"max\": 2,\n        \"num_unique_values\": 2,\n        \"samples\": [\n          1,\n          2\n        ],\n        \"semantic_type\": \"\",\n        \"description\": \"\"\n      }\n    },\n    {\n      \"column\": \"RAC1P\",\n      \"properties\": {\n        \"dtype\": \"number\",\n        \"std\": 2,\n        \"min\": 1,\n        \"max\": 9,\n        \"num_unique_values\": 8,\n        \"samples\": [\n          1,\n          3\n        ],\n        \"semantic_type\": \"\",\n        \"description\": \"\"\n      }\n    },\n    {\n      \"column\": \"PINCP\",\n      \"properties\": {\n        \"dtype\": \"number\",\n        \"std\": 82237.01285319959,\n        \"min\": -4800.0,\n        \"max\": 941000.0,\n        \"num_unique_values\": 351,\n        \"samples\": [\n          38000.0,\n          15800.0\n        ],\n        \"semantic_type\": \"\",\n        \"description\": \"\"\n      }\n    }\n  ]\n}"
            }
          },
          "metadata": {},
          "execution_count": 4
        }
      ]
    },
    {
      "cell_type": "markdown",
      "source": [
        "## Preprocessing\n",
        "\n",
        "Similarly to the explainability lab, we will be working with a limited number of features. We will also preprocess the data by dropping N/A columns and changing the type of features, as we did for this dataset in the labs."
      ],
      "metadata": {
        "id": "T5glmBPQ5OTs"
      }
    },
    {
      "cell_type": "code",
      "source": [
        "#@markdown Drop rows with missing values\n",
        "data.dropna(inplace=True)\n",
        "data.info()"
      ],
      "metadata": {
        "colab": {
          "base_uri": "https://localhost:8080/"
        },
        "id": "3cTZwBbtYXnJ",
        "outputId": "71bd3e8f-5af2-4f9a-998b-eafee1cac0c7"
      },
      "execution_count": 5,
      "outputs": [
        {
          "output_type": "stream",
          "name": "stdout",
          "text": [
            "<class 'pandas.core.frame.DataFrame'>\n",
            "Index: 545 entries, 123170 to 242250\n",
            "Data columns (total 11 columns):\n",
            " #   Column  Non-Null Count  Dtype  \n",
            "---  ------  --------------  -----  \n",
            " 0   AGEP    545 non-null    int64  \n",
            " 1   COW     545 non-null    float64\n",
            " 2   SCHL    545 non-null    float64\n",
            " 3   MAR     545 non-null    int64  \n",
            " 4   OCCP    545 non-null    float64\n",
            " 5   POBP    545 non-null    int64  \n",
            " 6   RELP    545 non-null    int64  \n",
            " 7   WKHP    545 non-null    float64\n",
            " 8   SEX     545 non-null    int64  \n",
            " 9   RAC1P   545 non-null    int64  \n",
            " 10  PINCP   545 non-null    float64\n",
            "dtypes: float64(5), int64(6)\n",
            "memory usage: 51.1 KB\n"
          ]
        }
      ]
    },
    {
      "cell_type": "code",
      "source": [
        "# @markdown Count how many people we are ranking\n",
        "population_size = data.shape[0]\n",
        "print(population_size)"
      ],
      "metadata": {
        "colab": {
          "base_uri": "https://localhost:8080/"
        },
        "id": "8gx4VEvYrwi9",
        "outputId": "d0f673ab-7fd4-4990-edd8-f1eb9f20842e"
      },
      "execution_count": 6,
      "outputs": [
        {
          "output_type": "stream",
          "name": "stdout",
          "text": [
            "545\n"
          ]
        }
      ]
    },
    {
      "cell_type": "code",
      "source": [
        "#@markdown Drop non-ordinal and some sensitive categorical features\n",
        "non_ordinal_categorical_cols = ['COW','MAR','OCCP','POBP','RELP','SEX']\n",
        "data.drop(columns=non_ordinal_categorical_cols, inplace=True)"
      ],
      "metadata": {
        "id": "KiZBne-zI0VZ"
      },
      "execution_count": 7,
      "outputs": []
    },
    {
      "cell_type": "code",
      "source": [
        "#@markdown Change data types of categorical features and sensitive feature we will be using.\n",
        "# @markdown Note that we will use SCHL as a numerical feature because it's ordinal\n",
        "numerical_cols = ['AGEP','WKHP', 'SCHL']\n",
        "categorical_cols = ['RAC1P']\n",
        "\n",
        "for col in categorical_cols:\n",
        "  data[col] = data[col].astype('int')\n",
        "  data[col] = data[col].astype('category')\n",
        "\n",
        "data.info()"
      ],
      "metadata": {
        "colab": {
          "base_uri": "https://localhost:8080/"
        },
        "id": "pMsmDc0GYeef",
        "outputId": "3096a8d4-fcd7-4d9b-e55b-a6aadf2378c3"
      },
      "execution_count": 8,
      "outputs": [
        {
          "output_type": "stream",
          "name": "stdout",
          "text": [
            "<class 'pandas.core.frame.DataFrame'>\n",
            "Index: 545 entries, 123170 to 242250\n",
            "Data columns (total 5 columns):\n",
            " #   Column  Non-Null Count  Dtype   \n",
            "---  ------  --------------  -----   \n",
            " 0   AGEP    545 non-null    int64   \n",
            " 1   SCHL    545 non-null    float64 \n",
            " 2   WKHP    545 non-null    float64 \n",
            " 3   RAC1P   545 non-null    category\n",
            " 4   PINCP   545 non-null    float64 \n",
            "dtypes: category(1), float64(3), int64(1)\n",
            "memory usage: 22.2 KB\n"
          ]
        }
      ]
    },
    {
      "cell_type": "code",
      "source": [
        "#@markdown Standardize numerical features, we will use a min-max scaler because we use linear weighted functions\n",
        "scaler = MinMaxScaler()\n",
        "data[numerical_cols] = scaler.fit_transform(data[numerical_cols])\n",
        "data.head()"
      ],
      "metadata": {
        "colab": {
          "base_uri": "https://localhost:8080/",
          "height": 206
        },
        "id": "IUKaF17fiRwM",
        "outputId": "7b8ce70a-5994-45db-c05c-bb06e8388a7e"
      },
      "execution_count": 9,
      "outputs": [
        {
          "output_type": "execute_result",
          "data": {
            "text/plain": [
              "            AGEP      SCHL      WKHP RAC1P    PINCP\n",
              "123170  0.363636  0.478261  0.397959     8   6300.0\n",
              "366093  0.363636  0.652174  0.397959     8  36000.0\n",
              "206601  0.515152  0.652174  0.561224     6  48000.0\n",
              "96394   0.151515  0.782609  0.500000     1  60000.0\n",
              "232318  0.393939  0.869565  0.500000     9  55000.0"
            ],
            "text/html": [
              "\n",
              "  <div id=\"df-06b639b4-a738-4528-95be-dfc789fd1603\" class=\"colab-df-container\">\n",
              "    <div>\n",
              "<style scoped>\n",
              "    .dataframe tbody tr th:only-of-type {\n",
              "        vertical-align: middle;\n",
              "    }\n",
              "\n",
              "    .dataframe tbody tr th {\n",
              "        vertical-align: top;\n",
              "    }\n",
              "\n",
              "    .dataframe thead th {\n",
              "        text-align: right;\n",
              "    }\n",
              "</style>\n",
              "<table border=\"1\" class=\"dataframe\">\n",
              "  <thead>\n",
              "    <tr style=\"text-align: right;\">\n",
              "      <th></th>\n",
              "      <th>AGEP</th>\n",
              "      <th>SCHL</th>\n",
              "      <th>WKHP</th>\n",
              "      <th>RAC1P</th>\n",
              "      <th>PINCP</th>\n",
              "    </tr>\n",
              "  </thead>\n",
              "  <tbody>\n",
              "    <tr>\n",
              "      <th>123170</th>\n",
              "      <td>0.363636</td>\n",
              "      <td>0.478261</td>\n",
              "      <td>0.397959</td>\n",
              "      <td>8</td>\n",
              "      <td>6300.0</td>\n",
              "    </tr>\n",
              "    <tr>\n",
              "      <th>366093</th>\n",
              "      <td>0.363636</td>\n",
              "      <td>0.652174</td>\n",
              "      <td>0.397959</td>\n",
              "      <td>8</td>\n",
              "      <td>36000.0</td>\n",
              "    </tr>\n",
              "    <tr>\n",
              "      <th>206601</th>\n",
              "      <td>0.515152</td>\n",
              "      <td>0.652174</td>\n",
              "      <td>0.561224</td>\n",
              "      <td>6</td>\n",
              "      <td>48000.0</td>\n",
              "    </tr>\n",
              "    <tr>\n",
              "      <th>96394</th>\n",
              "      <td>0.151515</td>\n",
              "      <td>0.782609</td>\n",
              "      <td>0.500000</td>\n",
              "      <td>1</td>\n",
              "      <td>60000.0</td>\n",
              "    </tr>\n",
              "    <tr>\n",
              "      <th>232318</th>\n",
              "      <td>0.393939</td>\n",
              "      <td>0.869565</td>\n",
              "      <td>0.500000</td>\n",
              "      <td>9</td>\n",
              "      <td>55000.0</td>\n",
              "    </tr>\n",
              "  </tbody>\n",
              "</table>\n",
              "</div>\n",
              "    <div class=\"colab-df-buttons\">\n",
              "\n",
              "  <div class=\"colab-df-container\">\n",
              "    <button class=\"colab-df-convert\" onclick=\"convertToInteractive('df-06b639b4-a738-4528-95be-dfc789fd1603')\"\n",
              "            title=\"Convert this dataframe to an interactive table.\"\n",
              "            style=\"display:none;\">\n",
              "\n",
              "  <svg xmlns=\"http://www.w3.org/2000/svg\" height=\"24px\" viewBox=\"0 -960 960 960\">\n",
              "    <path d=\"M120-120v-720h720v720H120Zm60-500h600v-160H180v160Zm220 220h160v-160H400v160Zm0 220h160v-160H400v160ZM180-400h160v-160H180v160Zm440 0h160v-160H620v160ZM180-180h160v-160H180v160Zm440 0h160v-160H620v160Z\"/>\n",
              "  </svg>\n",
              "    </button>\n",
              "\n",
              "  <style>\n",
              "    .colab-df-container {\n",
              "      display:flex;\n",
              "      gap: 12px;\n",
              "    }\n",
              "\n",
              "    .colab-df-convert {\n",
              "      background-color: #E8F0FE;\n",
              "      border: none;\n",
              "      border-radius: 50%;\n",
              "      cursor: pointer;\n",
              "      display: none;\n",
              "      fill: #1967D2;\n",
              "      height: 32px;\n",
              "      padding: 0 0 0 0;\n",
              "      width: 32px;\n",
              "    }\n",
              "\n",
              "    .colab-df-convert:hover {\n",
              "      background-color: #E2EBFA;\n",
              "      box-shadow: 0px 1px 2px rgba(60, 64, 67, 0.3), 0px 1px 3px 1px rgba(60, 64, 67, 0.15);\n",
              "      fill: #174EA6;\n",
              "    }\n",
              "\n",
              "    .colab-df-buttons div {\n",
              "      margin-bottom: 4px;\n",
              "    }\n",
              "\n",
              "    [theme=dark] .colab-df-convert {\n",
              "      background-color: #3B4455;\n",
              "      fill: #D2E3FC;\n",
              "    }\n",
              "\n",
              "    [theme=dark] .colab-df-convert:hover {\n",
              "      background-color: #434B5C;\n",
              "      box-shadow: 0px 1px 3px 1px rgba(0, 0, 0, 0.15);\n",
              "      filter: drop-shadow(0px 1px 2px rgba(0, 0, 0, 0.3));\n",
              "      fill: #FFFFFF;\n",
              "    }\n",
              "  </style>\n",
              "\n",
              "    <script>\n",
              "      const buttonEl =\n",
              "        document.querySelector('#df-06b639b4-a738-4528-95be-dfc789fd1603 button.colab-df-convert');\n",
              "      buttonEl.style.display =\n",
              "        google.colab.kernel.accessAllowed ? 'block' : 'none';\n",
              "\n",
              "      async function convertToInteractive(key) {\n",
              "        const element = document.querySelector('#df-06b639b4-a738-4528-95be-dfc789fd1603');\n",
              "        const dataTable =\n",
              "          await google.colab.kernel.invokeFunction('convertToInteractive',\n",
              "                                                    [key], {});\n",
              "        if (!dataTable) return;\n",
              "\n",
              "        const docLinkHtml = 'Like what you see? Visit the ' +\n",
              "          '<a target=\"_blank\" href=https://colab.research.google.com/notebooks/data_table.ipynb>data table notebook</a>'\n",
              "          + ' to learn more about interactive tables.';\n",
              "        element.innerHTML = '';\n",
              "        dataTable['output_type'] = 'display_data';\n",
              "        await google.colab.output.renderOutput(dataTable, element);\n",
              "        const docLink = document.createElement('div');\n",
              "        docLink.innerHTML = docLinkHtml;\n",
              "        element.appendChild(docLink);\n",
              "      }\n",
              "    </script>\n",
              "  </div>\n",
              "\n",
              "\n",
              "<div id=\"df-d808a532-718a-420e-912c-6956bd133441\">\n",
              "  <button class=\"colab-df-quickchart\" onclick=\"quickchart('df-d808a532-718a-420e-912c-6956bd133441')\"\n",
              "            title=\"Suggest charts\"\n",
              "            style=\"display:none;\">\n",
              "\n",
              "<svg xmlns=\"http://www.w3.org/2000/svg\" height=\"24px\"viewBox=\"0 0 24 24\"\n",
              "     width=\"24px\">\n",
              "    <g>\n",
              "        <path d=\"M19 3H5c-1.1 0-2 .9-2 2v14c0 1.1.9 2 2 2h14c1.1 0 2-.9 2-2V5c0-1.1-.9-2-2-2zM9 17H7v-7h2v7zm4 0h-2V7h2v10zm4 0h-2v-4h2v4z\"/>\n",
              "    </g>\n",
              "</svg>\n",
              "  </button>\n",
              "\n",
              "<style>\n",
              "  .colab-df-quickchart {\n",
              "      --bg-color: #E8F0FE;\n",
              "      --fill-color: #1967D2;\n",
              "      --hover-bg-color: #E2EBFA;\n",
              "      --hover-fill-color: #174EA6;\n",
              "      --disabled-fill-color: #AAA;\n",
              "      --disabled-bg-color: #DDD;\n",
              "  }\n",
              "\n",
              "  [theme=dark] .colab-df-quickchart {\n",
              "      --bg-color: #3B4455;\n",
              "      --fill-color: #D2E3FC;\n",
              "      --hover-bg-color: #434B5C;\n",
              "      --hover-fill-color: #FFFFFF;\n",
              "      --disabled-bg-color: #3B4455;\n",
              "      --disabled-fill-color: #666;\n",
              "  }\n",
              "\n",
              "  .colab-df-quickchart {\n",
              "    background-color: var(--bg-color);\n",
              "    border: none;\n",
              "    border-radius: 50%;\n",
              "    cursor: pointer;\n",
              "    display: none;\n",
              "    fill: var(--fill-color);\n",
              "    height: 32px;\n",
              "    padding: 0;\n",
              "    width: 32px;\n",
              "  }\n",
              "\n",
              "  .colab-df-quickchart:hover {\n",
              "    background-color: var(--hover-bg-color);\n",
              "    box-shadow: 0 1px 2px rgba(60, 64, 67, 0.3), 0 1px 3px 1px rgba(60, 64, 67, 0.15);\n",
              "    fill: var(--button-hover-fill-color);\n",
              "  }\n",
              "\n",
              "  .colab-df-quickchart-complete:disabled,\n",
              "  .colab-df-quickchart-complete:disabled:hover {\n",
              "    background-color: var(--disabled-bg-color);\n",
              "    fill: var(--disabled-fill-color);\n",
              "    box-shadow: none;\n",
              "  }\n",
              "\n",
              "  .colab-df-spinner {\n",
              "    border: 2px solid var(--fill-color);\n",
              "    border-color: transparent;\n",
              "    border-bottom-color: var(--fill-color);\n",
              "    animation:\n",
              "      spin 1s steps(1) infinite;\n",
              "  }\n",
              "\n",
              "  @keyframes spin {\n",
              "    0% {\n",
              "      border-color: transparent;\n",
              "      border-bottom-color: var(--fill-color);\n",
              "      border-left-color: var(--fill-color);\n",
              "    }\n",
              "    20% {\n",
              "      border-color: transparent;\n",
              "      border-left-color: var(--fill-color);\n",
              "      border-top-color: var(--fill-color);\n",
              "    }\n",
              "    30% {\n",
              "      border-color: transparent;\n",
              "      border-left-color: var(--fill-color);\n",
              "      border-top-color: var(--fill-color);\n",
              "      border-right-color: var(--fill-color);\n",
              "    }\n",
              "    40% {\n",
              "      border-color: transparent;\n",
              "      border-right-color: var(--fill-color);\n",
              "      border-top-color: var(--fill-color);\n",
              "    }\n",
              "    60% {\n",
              "      border-color: transparent;\n",
              "      border-right-color: var(--fill-color);\n",
              "    }\n",
              "    80% {\n",
              "      border-color: transparent;\n",
              "      border-right-color: var(--fill-color);\n",
              "      border-bottom-color: var(--fill-color);\n",
              "    }\n",
              "    90% {\n",
              "      border-color: transparent;\n",
              "      border-bottom-color: var(--fill-color);\n",
              "    }\n",
              "  }\n",
              "</style>\n",
              "\n",
              "  <script>\n",
              "    async function quickchart(key) {\n",
              "      const quickchartButtonEl =\n",
              "        document.querySelector('#' + key + ' button');\n",
              "      quickchartButtonEl.disabled = true;  // To prevent multiple clicks.\n",
              "      quickchartButtonEl.classList.add('colab-df-spinner');\n",
              "      try {\n",
              "        const charts = await google.colab.kernel.invokeFunction(\n",
              "            'suggestCharts', [key], {});\n",
              "      } catch (error) {\n",
              "        console.error('Error during call to suggestCharts:', error);\n",
              "      }\n",
              "      quickchartButtonEl.classList.remove('colab-df-spinner');\n",
              "      quickchartButtonEl.classList.add('colab-df-quickchart-complete');\n",
              "    }\n",
              "    (() => {\n",
              "      let quickchartButtonEl =\n",
              "        document.querySelector('#df-d808a532-718a-420e-912c-6956bd133441 button');\n",
              "      quickchartButtonEl.style.display =\n",
              "        google.colab.kernel.accessAllowed ? 'block' : 'none';\n",
              "    })();\n",
              "  </script>\n",
              "</div>\n",
              "\n",
              "    </div>\n",
              "  </div>\n"
            ],
            "application/vnd.google.colaboratory.intrinsic+json": {
              "type": "dataframe",
              "variable_name": "data",
              "summary": "{\n  \"name\": \"data\",\n  \"rows\": 545,\n  \"fields\": [\n    {\n      \"column\": \"AGEP\",\n      \"properties\": {\n        \"dtype\": \"number\",\n        \"std\": 0.21820440102238128,\n        \"min\": 0.0,\n        \"max\": 1.0,\n        \"num_unique_values\": 62,\n        \"samples\": [\n          0.06060606060606061,\n          0.8787878787878789,\n          0.36363636363636365\n        ],\n        \"semantic_type\": \"\",\n        \"description\": \"\"\n      }\n    },\n    {\n      \"column\": \"SCHL\",\n      \"properties\": {\n        \"dtype\": \"number\",\n        \"std\": 0.17966383676036313,\n        \"min\": 0.0,\n        \"max\": 1.0,\n        \"num_unique_values\": 20,\n        \"samples\": [\n          0.4782608695652174,\n          0.6956521739130435,\n          0.6086956521739131\n        ],\n        \"semantic_type\": \"\",\n        \"description\": \"\"\n      }\n    },\n    {\n      \"column\": \"WKHP\",\n      \"properties\": {\n        \"dtype\": \"number\",\n        \"std\": 0.13280638965918368,\n        \"min\": 0.0,\n        \"max\": 0.9999999999999999,\n        \"num_unique_values\": 48,\n        \"samples\": [\n          0.7244897959183673,\n          0.32653061224489793,\n          0.2346938775510204\n        ],\n        \"semantic_type\": \"\",\n        \"description\": \"\"\n      }\n    },\n    {\n      \"column\": \"RAC1P\",\n      \"properties\": {\n        \"dtype\": \"category\",\n        \"num_unique_values\": 7,\n        \"samples\": [\n          8,\n          6,\n          7\n        ],\n        \"semantic_type\": \"\",\n        \"description\": \"\"\n      }\n    },\n    {\n      \"column\": \"PINCP\",\n      \"properties\": {\n        \"dtype\": \"number\",\n        \"std\": 91724.63287538705,\n        \"min\": -4800.0,\n        \"max\": 941000.0,\n        \"num_unique_values\": 264,\n        \"samples\": [\n          49000.0,\n          30080.0,\n          21400.0\n        ],\n        \"semantic_type\": \"\",\n        \"description\": \"\"\n      }\n    }\n  ]\n}"
            }
          },
          "metadata": {},
          "execution_count": 9
        }
      ]
    },
    {
      "cell_type": "code",
      "source": [
        "#@markdown Let's see how the distributions look after using the scaler\n",
        "fig, ax = plt.subplots(3,1,figsize=(8,12))\n",
        "\n",
        "ax[0] = sns.histplot(data=data, x=\"AGEP\", ax=ax[0])\n",
        "ax[1] = sns.histplot(data=data, x=\"SCHL\", ax=ax[1])\n",
        "ax[2] = sns.histplot(data=data, x=\"WKHP\", ax=ax[2])\n",
        "\n",
        "plt.show()"
      ],
      "metadata": {
        "colab": {
          "base_uri": "https://localhost:8080/",
          "height": 1000
        },
        "id": "XK5FbMBdwbJ_",
        "outputId": "24c5fb39-eefe-4dba-cc13-e154322cd47a"
      },
      "execution_count": 10,
      "outputs": [
        {
          "output_type": "display_data",
          "data": {
            "text/plain": [
              "<Figure size 800x1200 with 3 Axes>"
            ],
            "image/png": "[encoded data removed]"
          },
          "metadata": {}
        }
      ]
    },
    {
      "cell_type": "code",
      "source": [
        "# @markdown View number of unique values per feature\n",
        "for col in data.columns:\n",
        "    print(col,\": \",data[col].nunique())"
      ],
      "metadata": {
        "colab": {
          "base_uri": "https://localhost:8080/"
        },
        "id": "r1pGyx3eYsWV",
        "outputId": "13eab373-f2ed-4ce4-b73b-067d6f826972"
      },
      "execution_count": 11,
      "outputs": [
        {
          "output_type": "stream",
          "name": "stdout",
          "text": [
            "AGEP :  62\n",
            "SCHL :  20\n",
            "WKHP :  48\n",
            "RAC1P :  7\n",
            "PINCP :  264\n"
          ]
        }
      ]
    },
    {
      "cell_type": "code",
      "source": [
        "#@markdown Here we will drop the target variable as well because in our scenario\n",
        "#@markdown we define our own target variables.\n",
        "data.drop(columns=['PINCP'], inplace=True)"
      ],
      "metadata": {
        "id": "wwrJTz1yY4XE"
      },
      "execution_count": 12,
      "outputs": []
    },
    {
      "cell_type": "markdown",
      "source": [
        "# Using ShaRP to calculate feature importance"
      ],
      "metadata": {
        "id": "spIVkKyS8L1U"
      }
    },
    {
      "cell_type": "markdown",
      "source": [
        "## Different ranking functions"
      ],
      "metadata": {
        "id": "2f_PJxay8VWI"
      }
    },
    {
      "cell_type": "markdown",
      "source": [
        "We will define three  ranking functions on Age, Work hours per week and education (`AGEP`, `SCHL`, `WKHP`). We use these features because we define numerical functions here and they are either continuous or ordinal categorical.\n",
        "\n",
        "Note that each function places higher weight in one of the features."
      ],
      "metadata": {
        "id": "N31W8Bow8umw"
      }
    },
    {
      "cell_type": "code",
      "source": [
        "#@markdown Define the scoring function and calculate the scores of all individuals\n",
        "def score_function_SCHL(X):\n",
        "    # AGEP, SCHL, WKHP\n",
        "    return 0.2 * X[:, 0] + 0.6 * X[:, 1] + 0.2 * X[:, 2]\n",
        "\n",
        "def score_function_WKHP(X):\n",
        "    # AGEP, SCHL, WKHP\n",
        "    return 0.2 * X[:, 0] + 0.2 * X[:, 1] + 0.6 * X[:, 2]\n",
        "\n",
        "def score_function_AGEP(X):\n",
        "    # AGEP, SCHL, WKHP\n",
        "    return 0.6 * X[:, 0] + 0.2 * X[:, 1] + 0.2 * X[:, 2]"
      ],
      "metadata": {
        "id": "bT6Oo2VRZFh2"
      },
      "execution_count": 13,
      "outputs": []
    },
    {
      "cell_type": "code",
      "source": [
        "# @markdown Save the dataframe into a numpy array called X and calculate the\n",
        "# @markdown target scores for all functions\n",
        "X = data.to_numpy()\n",
        "y_SCHL = score_function_SCHL(X)\n",
        "y_WKHP = score_function_WKHP(X)\n",
        "y_AGEP = score_function_AGEP(X)"
      ],
      "metadata": {
        "id": "xE0e6Zv_8lc5"
      },
      "execution_count": 14,
      "outputs": []
    },
    {
      "cell_type": "markdown",
      "source": [
        "## Define a ShaRP object for each function\n",
        "\n",
        "We will use an approximation to calculate feature importance faster. To do so, we use the parameter `sample_size`. See the [QII paper](https://ieeexplore.ieee.org/document/7546525) for more details on the number of samples and approximation error."
      ],
      "metadata": {
        "id": "g2jtOdDs9zzJ"
      }
    },
    {
      "cell_type": "code",
      "source": [
        "# @markdown ShaRP object for the first (SCHL) score function\n",
        "sharp_ranking_SCHL = ShaRP(\n",
        "    qoi=\"rank\",\n",
        "    target_function=score_function_SCHL,\n",
        "    measure=\"shapley\",\n",
        "    sample_size=150,\n",
        "    replace=False,\n",
        "    random_state=42,\n",
        ")\n",
        "\n",
        "sharp_ranking_SCHL.fit(X)"
      ],
      "metadata": {
        "id": "vyuiboQ6ZIET"
      },
      "execution_count": 15,
      "outputs": []
    },
    {
      "cell_type": "code",
      "source": [
        "sharp_ranking_WKHP = ShaRP(\n",
        "    qoi=\"rank\",\n",
        "    target_function=score_function_WKHP,\n",
        "    measure=\"shapley\",\n",
        "    sample_size=150,\n",
        "    replace=False,\n",
        "    random_state=42,\n",
        ")\n",
        "\n",
        "sharp_ranking_WKHP.fit(X)"
      ],
      "metadata": {
        "id": "WbtBRaw7-Ztb"
      },
      "execution_count": 16,
      "outputs": []
    },
    {
      "cell_type": "code",
      "source": [
        "sharp_ranking_AGEP = ShaRP(\n",
        "    qoi=\"rank\",\n",
        "    target_function=score_function_AGEP,\n",
        "    measure=\"shapley\",\n",
        "    sample_size=150,\n",
        "    replace=False,\n",
        "    random_state=42,\n",
        ")\n",
        "\n",
        "sharp_ranking_AGEP.fit(X)"
      ],
      "metadata": {
        "id": "PkwQOmXW6mal"
      },
      "execution_count": 17,
      "outputs": []
    },
    {
      "cell_type": "markdown",
      "source": [
        "## Item order per function\n",
        "\n",
        "The ranked order of the data points depends on the ranking function. Let's calculate the ranking defined by each function."
      ],
      "metadata": {
        "id": "Sz1MMzaO_hxF"
      }
    },
    {
      "cell_type": "code",
      "source": [
        "order_WKHP = scores_to_ordering(y_WKHP)\n",
        "order_WKHP"
      ],
      "metadata": {
        "colab": {
          "base_uri": "https://localhost:8080/"
        },
        "id": "qk4LgSBj1nEv",
        "outputId": "36235c1c-c372-43bf-e39c-1c47d081852f"
      },
      "execution_count": 18,
      "outputs": [
        {
          "output_type": "execute_result",
          "data": {
            "text/plain": [
              "array([406, 335,  63, 220,  88, 343, 182, 281, 342, 433, 541, 162, 377,\n",
              "       376, 129, 324, 265, 216, 464, 362,  67,  98, 320, 138, 439, 521,\n",
              "       185, 183, 421, 234, 127, 163, 530, 355, 476, 338, 472,  32, 214,\n",
              "       363, 482,  49, 331, 461, 326, 542,  77, 354, 365, 516, 287, 471,\n",
              "        48, 175, 434, 292, 350, 414,  65, 453, 490,  96, 117, 410, 534,\n",
              "       479, 132, 347, 402, 274, 403, 148, 399, 248,  79, 407,  21, 366,\n",
              "       361, 485, 269,  82, 493,  52, 114, 416, 202, 337, 252, 298, 211,\n",
              "       405, 255, 305, 290, 261, 459,  15,  28, 522,  29, 455, 257, 469,\n",
              "       119, 207,  25, 346,  34, 307, 378, 514, 180, 451, 495, 263,  19,\n",
              "        17, 386, 311, 474, 246, 396, 391,  69, 371, 155, 120, 204, 124,\n",
              "       158, 141,  75, 392,  47, 369, 126,   4, 533, 169, 425, 236,   6,\n",
              "        51, 196,  24, 221, 519, 226, 520, 273, 348, 341, 432, 336, 208,\n",
              "       452,  14, 467, 529, 528, 325, 508,  53, 487, 195, 382, 454, 201,\n",
              "       418, 470, 353, 134,  43,  39, 254,  35,  61, 477, 267, 177, 538,\n",
              "       270, 308,  41, 264,  33,  92, 259, 143, 491, 492,  73, 456, 351,\n",
              "       532, 436, 295, 424,  91, 233,  87, 430, 260, 443,  36, 370,  86,\n",
              "       322, 330, 545,   9, 284,  18, 123, 241, 428,  30,  54, 413, 515,\n",
              "       484, 165, 109, 327, 409, 504, 239, 438, 356, 352, 283, 393, 527,\n",
              "         2, 316, 277, 466, 540, 394, 339,  37, 113,  90, 170, 178, 531,\n",
              "       133, 108,  83,  74, 437, 426, 441, 121, 188, 210, 318, 100, 145,\n",
              "       400, 537, 384, 478, 144, 359, 374, 496, 193, 243, 535, 251, 156,\n",
              "       364, 242, 525, 271, 387, 506, 280,  38,  12, 230, 157, 176, 357,\n",
              "       317, 419, 223, 494, 253, 149, 266, 460, 197, 536, 288, 385, 103,\n",
              "       206,  62, 272, 102, 340,  20,  45,  46,  31, 184,  27, 135, 332,\n",
              "        76,  66, 130,  70,  59, 513, 152, 168,  22, 328, 140,   3,  57,\n",
              "       225, 300, 427, 398,  10, 219, 151, 360, 440, 397, 408, 303, 431,\n",
              "       524, 310, 505, 312, 192,  26, 235, 115, 498, 278, 297, 401, 481,\n",
              "        56, 381,  99, 372, 500,  11, 289, 194, 262,  81,  89,  16, 229,\n",
              "       200, 217, 390, 203, 136,  95, 153, 299, 240, 101, 302, 465, 187,\n",
              "       526, 122, 164, 415, 166, 423, 268, 309, 344, 181, 116, 118, 296,\n",
              "       279, 457, 503,  71, 473, 501, 291, 458, 150,  55,  23, 212, 249,\n",
              "       189, 215,  80, 222, 232,   5, 105, 422, 518, 106, 125, 380, 247,\n",
              "       367, 517, 301, 373, 313,  72, 205, 275, 306, 411,  84, 512, 139,\n",
              "       137, 499, 146, 379, 447, 213, 395, 507,  42,  68,  13, 245,   1,\n",
              "       444, 228, 172,   7, 321, 110, 258, 179, 107, 462,  93,  97, 314,\n",
              "       412, 511, 319, 159, 174, 389, 231, 199, 293, 383, 128, 147, 190,\n",
              "       161,   8, 489, 237,  58, 486, 315, 333, 375, 497, 449, 480, 345,\n",
              "       349, 502, 112, 282, 358, 209, 544, 420, 429, 475, 329, 463, 244,\n",
              "       111, 523, 509,  64, 483, 334,  60, 131, 323, 388, 368, 218, 256,\n",
              "       286, 186, 104, 276, 445, 191,  40, 468, 171, 446, 539, 238, 510,\n",
              "       488, 224, 442,  50, 404, 167, 154, 304, 250, 435, 227,  78, 417,\n",
              "       294,  94, 142, 160, 285, 173, 448, 198,  85, 450,  44, 543])"
            ]
          },
          "metadata": {},
          "execution_count": 18
        }
      ]
    },
    {
      "cell_type": "code",
      "source": [
        "# @markdown Order of data points based on the first scoring function\n",
        "order_SCHL = scores_to_ordering(y_SCHL)\n",
        "order_SCHL"
      ],
      "metadata": {
        "colab": {
          "base_uri": "https://localhost:8080/"
        },
        "id": "u9iHflLLZKpi",
        "outputId": "804aeb4c-0e2f-49b6-8927-b947e825d999"
      },
      "execution_count": 19,
      "outputs": [
        {
          "output_type": "execute_result",
          "data": {
            "text/plain": [
              "array([493, 426, 324, 333, 129, 450, 114, 237, 536, 487, 523, 172, 509,\n",
              "       526, 100, 185, 226, 387, 117, 250,  41, 403, 264,  30, 357, 320,\n",
              "       229, 113, 460, 231, 134, 127, 396, 388, 538, 503, 521,  73, 143,\n",
              "       520, 420, 317, 274, 532, 371, 465,  95, 126, 504, 390, 347, 416,\n",
              "        78, 103, 469, 313, 432, 472,  37, 443, 485,  97,  88, 519, 479,\n",
              "       535, 145, 283, 338, 365, 244, 299, 288, 171, 361, 449,  21, 359,\n",
              "       241, 246, 121, 110, 507,  27, 177, 455, 175, 407, 346, 495, 182,\n",
              "       414, 266, 254, 311, 181, 151,  57, 104, 488,  56, 364, 280, 458,\n",
              "       168,  58,  23, 285,  31, 116, 404, 441, 147, 478, 415, 391,  36,\n",
              "        25, 289, 222, 537, 309, 444, 442,  18, 517,  82, 135, 123, 176,\n",
              "       236, 187, 234, 392,   7, 249, 190,  13, 541, 245, 463, 197,  10,\n",
              "        53, 124,  39, 259, 525, 224, 545, 399, 284, 300, 326, 425, 348,\n",
              "       529,  16, 501, 440, 412, 421, 476, 291, 335, 192, 186, 169, 178,\n",
              "       281, 527, 434, 109,  54,   8, 318,  14, 164, 518, 191, 323, 530,\n",
              "       233, 351, 132, 227, 106, 214, 216, 152, 287, 474,  67, 363, 435,\n",
              "       452, 353, 411, 492, 522, 260,  48, 219, 215, 513,  43, 256, 382,\n",
              "       230, 272, 508,   1, 405,  17,  93, 204, 303,  29, 150, 502, 544,\n",
              "       367,  71, 158, 337, 497, 542, 301, 454, 389, 433, 423, 321, 439,\n",
              "       179, 393, 305, 500, 482, 205, 344,  26, 251,  98, 210,  19, 477,\n",
              "       153, 195, 122,  40, 295, 510, 331, 130, 156, 220, 330, 159, 119,\n",
              "       515, 471, 410, 499, 107, 325, 212, 422, 366, 373, 457, 339,  81,\n",
              "       384, 163, 498, 201, 512, 437, 306,  11,   4, 296, 302, 322, 394,\n",
              "       372, 473, 262, 430, 319, 232, 228, 385, 125, 456, 340, 379, 148,\n",
              "       383, 350, 506,  59, 345,   5,  32, 208, 293,  45,   6, 108, 242,\n",
              "       207,  94, 243, 137, 102, 468, 211,  28,  83, 294, 188,   2,  47,\n",
              "       223, 349, 398, 413,  35, 327, 200, 292,  33, 431, 505, 252, 445,\n",
              "       494, 258, 375, 221, 406, 101, 196,  89, 539, 304, 496, 400, 419,\n",
              "        46, 451,  22, 370, 481,   3, 314, 316, 180,  44,  20, 162, 358,\n",
              "       278,  77, 276, 174,  64,  96, 161, 380, 235,  60, 263, 362, 193,\n",
              "       395,  92, 128, 239,  91, 533, 136, 352, 429, 146,  87, 209,  65,\n",
              "       307, 290, 424, 111, 484, 453, 312, 462, 199,  62,  34, 144, 170,\n",
              "       157, 105, 377, 261, 461,  15,  69, 376, 524,  70, 189, 286, 275,\n",
              "       360, 490, 480, 334, 173, 112, 133,  66, 218,  84,  85, 268,  12,\n",
              "        63, 409, 118, 374, 194, 142, 448, 427, 115, 269,   9, 308,  76,\n",
              "       401, 149, 139, 332, 265, 131, 257, 184,  49, 467, 203,  51, 428,\n",
              "       402, 486, 329, 217, 138, 267, 297, 315, 247, 438,  99,  72, 155,\n",
              "       166, 198, 491, 369,  24, 514, 418, 213, 446, 255, 534, 540, 381,\n",
              "       282, 417,  79, 238, 355, 277, 543, 459, 466, 408, 273, 436,  90,\n",
              "        80, 489, 336,  50, 397, 202,  61, 165, 516, 386, 298, 354, 279,\n",
              "       356, 183,  68, 341,  74, 120,  38, 225,  42, 475, 531, 368, 483,\n",
              "       528, 240, 511,  52, 447, 310, 160, 253, 378, 470, 154,  75, 270,\n",
              "       248, 141, 206, 167,  55, 140, 328, 343,  86, 342, 271, 464])"
            ]
          },
          "metadata": {},
          "execution_count": 19
        }
      ]
    },
    {
      "cell_type": "code",
      "source": [
        "order_AGEP = scores_to_ordering(y_AGEP)\n",
        "order_AGEP"
      ],
      "metadata": {
        "colab": {
          "base_uri": "https://localhost:8080/"
        },
        "id": "dWTLWaqm6pd8",
        "outputId": "f8fea75a-100b-483c-e35b-5fb9677f528d"
      },
      "execution_count": 20,
      "outputs": [
        {
          "output_type": "execute_result",
          "data": {
            "text/plain": [
              "array([386, 343, 178, 431, 228, 306, 236, 383, 324, 482, 543, 290, 241,\n",
              "       512, 136, 225, 358, 251,  21, 255, 107, 374, 424, 213,  48, 353,\n",
              "       174, 237, 489, 283, 108, 176, 493, 405, 335, 449, 499, 190, 301,\n",
              "       170, 505, 181, 439, 450, 380, 531, 169, 182, 242, 509, 434, 501,\n",
              "        62, 223, 510, 349, 368, 274,  95, 393, 508, 151, 111, 339, 536,\n",
              "       461, 121, 458, 454, 153, 419,  52, 337, 351, 161, 465,  49, 437,\n",
              "       124, 238, 207,  23, 126, 149, 315, 483, 266, 369, 231, 128, 284,\n",
              "       441,  38, 401, 346, 361,  58, 112,  13, 528, 171, 471, 291, 452,\n",
              "       295, 117,  16, 457,  31,  71, 435, 523, 211, 525, 479, 229,  79,\n",
              "        89, 127, 425, 318, 249, 433, 417,  40, 338, 187, 219,  42,  81,\n",
              "       103, 106, 277, 484,  12, 137, 340,   1, 387, 118, 495, 298,   3,\n",
              "       100, 268,  20, 233, 448, 264, 541, 261, 456, 296, 302, 342, 148,\n",
              "       428,  35, 519, 500, 517, 325, 475, 226, 276,  85, 202, 204, 150,\n",
              "       410, 481, 367, 145,  36,   5, 263,   2, 116, 518, 384,  92, 545,\n",
              "       372, 344,  27, 357,  44,  80, 331, 134, 354, 497, 115, 470, 366,\n",
              "       530, 464, 288, 442, 102, 252, 141, 227, 332, 451,  68, 271, 319,\n",
              "       334, 440, 542,   4, 280,  29, 122, 309, 447,  28, 322, 402, 529,\n",
              "       355,  17,  56, 398, 396, 491, 232, 463, 404, 365, 245, 415, 494,\n",
              "       130, 209, 327, 520, 514, 113, 406,  54, 278, 281, 140,  69, 538,\n",
              "       250,  37, 216,  30, 203, 506, 189, 200, 221, 253, 389, 287, 157,\n",
              "       304, 515, 444, 224,  39, 446, 147, 498,  90, 193, 534, 104, 188,\n",
              "       165, 333, 539, 394, 275, 524, 328,  24,  19, 218,  63,  91, 503,\n",
              "       474, 473, 370, 513, 262,  94, 359,  88, 269, 533, 413, 466,  46,\n",
              "       131, 272, 279,  76, 407,   8,  93, 240,  59, 158,  10, 144, 460,\n",
              "       412,  65, 239,  53,  86, 411, 379,  66,  34, 285, 105,  41, 163,\n",
              "       265, 114, 478, 235,  11, 314, 119, 469,  18, 210, 377, 400, 421,\n",
              "       537, 408, 507, 426, 323, 273, 297, 109, 307, 329, 129, 496, 504,\n",
              "        45, 487,  51, 445, 522,  15, 348, 397, 360,  32, 138, 214, 173,\n",
              "       185, 260, 311, 267, 167, 152, 142, 308, 293,  77, 430, 257, 195,\n",
              "       409, 123, 175, 303, 199, 286, 146, 345, 356, 212, 110,  55,  25,\n",
              "       330,  67, 480, 191, 429, 395, 347, 381, 120, 132,  61, 300, 350,\n",
              "       220, 317, 313, 371,  70,  33,  83,  98, 336,  84, 341, 443, 282,\n",
              "       436, 535, 172, 468,  87, 192, 294, 201, 414,  14, 246, 243,   6,\n",
              "       166, 427, 156, 455,  50, 299, 472, 486, 258,  47,  26, 248, 133,\n",
              "       159, 310, 196, 416, 423, 326, 420, 186, 234, 490, 168,  57, 362,\n",
              "       492, 526, 390, 388, 197, 180, 217, 164, 391, 403, 135, 177, 222,\n",
              "       154,  64, 467, 183, 208, 540, 316, 289, 378, 244, 375, 352, 485,\n",
              "       459, 462,  97, 382, 422,  75, 432, 488, 502, 376, 438, 179, 385,\n",
              "        96, 527,  99,  74, 320, 373,   9,  60, 125, 476, 477, 162, 292,\n",
              "       256,  78,  82, 418,   7, 254,  43, 215, 270, 521, 544, 184, 516,\n",
              "       363, 305, 205, 101, 453,  73, 143, 399, 206, 511, 194, 230, 160,\n",
              "       392, 259, 364, 155,  22, 198,  72, 139, 247, 321, 312, 532])"
            ]
          },
          "metadata": {},
          "execution_count": 20
        }
      ]
    },
    {
      "cell_type": "markdown",
      "source": [
        "## Item explainability for multiple functions\n",
        "\n",
        "Now we will select the person ranked 100th using the first function, and explain their featre importance under ALL functions"
      ],
      "metadata": {
        "id": "e9RMS0Vc_NVF"
      }
    },
    {
      "cell_type": "markdown",
      "source": [
        "## TODO: Part (a)"
      ],
      "metadata": {
        "id": "j_efiN2QAbqI"
      }
    },
    {
      "cell_type": "markdown",
      "source": [
        "### Part (i)"
      ],
      "metadata": {
        "id": "kdygVvBVmYoh"
      }
    },
    {
      "cell_type": "code",
      "source": [
        "# Part (a)(i) - What is the rank of individual i in the rankings based on other functions\n",
        "\n",
        "# Select the 100th ranked individual according to sharp_ranking_SCHL\n",
        "i100 = order_SCHL[99]  # 0-indexed, so 99 is the 100th position\n",
        "print(f\"Individual at rank 100 in SCHL ranking is index: {i100}\")\n",
        "\n",
        "# Find that individual's rank according to sharp_ranking_WKHP\n",
        "rankInWKHP = np.where(order_WKHP == i100)[0][0] + 1\n",
        "print(f\"This individual's rank in WKHP ranking: {rankInWKHP}\")\n",
        "\n",
        "# Find that individual's rank according to sharp_ranking_AGEP\n",
        "rankInAGEP = np.where(order_AGEP == i100)[0][0] + 1\n",
        "print(f\"This individual's rank in AGEP ranking: {rankInAGEP}\")\n",
        "\n",
        "# Do the above for another individual (using 200th ranked individual)\n",
        "i200 = order_SCHL[199]  # 0-indexed, so 199 is the 200th position\n",
        "rank200InWKHP = np.where(order_WKHP == i200)[0][0] + 1\n",
        "rank200InAGEP = np.where(order_AGEP == i200)[0][0] + 1\n",
        "\n",
        "print(f\"Individual at rank 200 in SCHL ranking is index: {i200}\")\n",
        "print(f\"This individual's rank in WKHP ranking: {rank200InWKHP}\")\n",
        "print(f\"This individual's rank in AGEP ranking: {rank200InAGEP}\")"
      ],
      "metadata": {
        "colab": {
          "base_uri": "https://localhost:8080/"
        },
        "id": "-BQff39NXFte",
        "outputId": "4bd445a8-89a7-46e6-acc1-8dcf3e232697"
      },
      "execution_count": 21,
      "outputs": [
        {
          "output_type": "stream",
          "name": "stdout",
          "text": [
            "Individual at rank 100 in SCHL ranking is index: 488\n",
            "This individual's rank in WKHP ranking: 521\n",
            "This individual's rank in AGEP ranking: 489\n",
            "Individual at rank 200 in SCHL ranking is index: 522\n",
            "This individual's rank in WKHP ranking: 100\n",
            "This individual's rank in AGEP ranking: 356\n"
          ]
        }
      ]
    },
    {
      "cell_type": "markdown",
      "source": [
        "### Part (ii)"
      ],
      "metadata": {
        "id": "n9yj--uqnJtE"
      }
    },
    {
      "cell_type": "code",
      "source": [
        "# Part (a)(ii) - Compute the importance of i according to rank QoI for each of the 3 rankings\n",
        "\n",
        "# Define consistent feature names used in all models\n",
        "feature_names = ['AGEP', 'SCHL', 'WKHP']\n",
        "\n",
        "# Reconstruct the feature matrix\n",
        "X = data[feature_names].to_numpy()\n",
        "\n",
        "# Refit all ShaRP models before explaining\n",
        "sharp_ranking_SCHL.fit(X)\n",
        "sharp_ranking_WKHP.fit(X)\n",
        "sharp_ranking_AGEP.fit(X)\n",
        "\n",
        "# Get the index of the 100th ranked individual\n",
        "i100 = order_SCHL[99]  # assuming 0-indexed and ranked by SCHL\n",
        "\n",
        "# Get contributions for the individual ranked 100th under each scoring function\n",
        "all_explanations_SCHL = sharp_ranking_SCHL.all(X)\n",
        "contributions_SCHL = all_explanations_SCHL[i100]\n",
        "\n",
        "all_explanations_WKHP = sharp_ranking_WKHP.all(X)\n",
        "contributions_WKHP = all_explanations_WKHP[i100]\n",
        "\n",
        "all_explanations_AGEP = sharp_ranking_AGEP.all(X)\n",
        "contributions_AGEP = all_explanations_AGEP[i100]\n",
        "\n",
        "# Create a comparison plot\n",
        "import matplotlib.pyplot as plt\n",
        "import numpy as np\n",
        "\n",
        "fig, ax = plt.subplots(figsize=(10, 6))\n",
        "x = np.arange(len(feature_names))\n",
        "width = 0.25\n",
        "\n",
        "rects1 = ax.bar(x - width, contributions_SCHL, width, label='SCHL Ranking')\n",
        "rects2 = ax.bar(x, contributions_WKHP, width, label='WKHP Ranking')\n",
        "rects3 = ax.bar(x + width, contributions_AGEP, width, label='AGEP Ranking')\n",
        "\n",
        "ax.set_ylabel('Feature Importance')\n",
        "ax.set_title('Feature Importance by Ranking Function for Individual Ranked 100th')\n",
        "ax.set_xticks(x)\n",
        "ax.set_xticklabels(feature_names)\n",
        "ax.legend()\n",
        "ax.axhline(y=0, color='k', linestyle='-', alpha=0.2)\n",
        "ax.grid(axis='y', alpha=0.3)\n",
        "\n",
        "plt.tight_layout()\n",
        "plt.show()\n",
        "\n",
        "# Print the values for reference\n",
        "print(\"\\nFeature importance values for individual ranked 100th:\")\n",
        "print(f\"SCHL ranking function: {dict(zip(feature_names, contributions_SCHL))}\")\n",
        "print(f\"WKHP ranking function: {dict(zip(feature_names, contributions_WKHP))}\")\n",
        "print(f\"AGEP ranking function: {dict(zip(feature_names, contributions_AGEP))}\")\n"
      ],
      "metadata": {
        "colab": {
          "base_uri": "https://localhost:8080/",
          "height": 629
        },
        "id": "NkGeprYUiw_S",
        "outputId": "5fba9067-7e44-425c-e074-797f83073317"
      },
      "execution_count": 31,
      "outputs": [
        {
          "output_type": "display_data",
          "data": {
            "text/plain": [
              "<Figure size 1000x600 with 1 Axes>"
            ],
            "image/png": "[encoded data removed]"
          },
          "metadata": {}
        },
        {
          "output_type": "stream",
          "name": "stdout",
          "text": [
            "\n",
            "Feature importance values for individual ranked 100th:\n",
            "SCHL ranking function: {'AGEP': np.float64(-77.64555555555556), 'SCHL': np.float64(-115.97333333333333), 'WKHP': np.float64(0.8322222222222222)}\n",
            "WKHP ranking function: {'AGEP': np.float64(-103.34333333333333), 'SCHL': np.float64(-42.39888888888889), 'WKHP': np.float64(1.3377777777777782)}\n",
            "AGEP ranking function: {'AGEP': np.float64(-187.31333333333333), 'SCHL': np.float64(-21.75444444444444), 'WKHP': np.float64(0.6588888888888889)}\n"
          ]
        }
      ]
    },
    {
      "cell_type": "markdown",
      "source": [
        "## TODO: Part (b)\n",
        "\n",
        "### Part (i)\n",
        "\n",
        "Now we will calculate the feature importances based on groups defined by the sensitive attribute. We will select one ranking function for this question and calculate the rank QoI feature importances for the top 20%."
      ],
      "metadata": {
        "id": "RfP8DFz188bw"
      }
    },
    {
      "cell_type": "code",
      "source": [
        "# @markdown Add the rank to the dataframe\n",
        "data['RANK'] = order_SCHL\n",
        "\n",
        "data.head()"
      ],
      "metadata": {
        "colab": {
          "base_uri": "https://localhost:8080/",
          "height": 206
        },
        "id": "tupsUFwSo9va",
        "outputId": "8330bd3e-35d5-4a56-b8ef-5e03cd83a83f"
      },
      "execution_count": 25,
      "outputs": [
        {
          "output_type": "execute_result",
          "data": {
            "text/plain": [
              "            AGEP      SCHL      WKHP RAC1P  RANK\n",
              "123170  0.363636  0.478261  0.397959     8   493\n",
              "366093  0.363636  0.652174  0.397959     8   426\n",
              "206601  0.515152  0.652174  0.561224     6   324\n",
              "96394   0.151515  0.782609  0.500000     1   333\n",
              "232318  0.393939  0.869565  0.500000     9   129"
            ],
            "text/html": [
              "\n",
              "  <div id=\"df-25e757c1-ecb6-4093-a48b-c444cfa8d71f\" class=\"colab-df-container\">\n",
              "    <div>\n",
              "<style scoped>\n",
              "    .dataframe tbody tr th:only-of-type {\n",
              "        vertical-align: middle;\n",
              "    }\n",
              "\n",
              "    .dataframe tbody tr th {\n",
              "        vertical-align: top;\n",
              "    }\n",
              "\n",
              "    .dataframe thead th {\n",
              "        text-align: right;\n",
              "    }\n",
              "</style>\n",
              "<table border=\"1\" class=\"dataframe\">\n",
              "  <thead>\n",
              "    <tr style=\"text-align: right;\">\n",
              "      <th></th>\n",
              "      <th>AGEP</th>\n",
              "      <th>SCHL</th>\n",
              "      <th>WKHP</th>\n",
              "      <th>RAC1P</th>\n",
              "      <th>RANK</th>\n",
              "    </tr>\n",
              "  </thead>\n",
              "  <tbody>\n",
              "    <tr>\n",
              "      <th>123170</th>\n",
              "      <td>0.363636</td>\n",
              "      <td>0.478261</td>\n",
              "      <td>0.397959</td>\n",
              "      <td>8</td>\n",
              "      <td>493</td>\n",
              "    </tr>\n",
              "    <tr>\n",
              "      <th>366093</th>\n",
              "      <td>0.363636</td>\n",
              "      <td>0.652174</td>\n",
              "      <td>0.397959</td>\n",
              "      <td>8</td>\n",
              "      <td>426</td>\n",
              "    </tr>\n",
              "    <tr>\n",
              "      <th>206601</th>\n",
              "      <td>0.515152</td>\n",
              "      <td>0.652174</td>\n",
              "      <td>0.561224</td>\n",
              "      <td>6</td>\n",
              "      <td>324</td>\n",
              "    </tr>\n",
              "    <tr>\n",
              "      <th>96394</th>\n",
              "      <td>0.151515</td>\n",
              "      <td>0.782609</td>\n",
              "      <td>0.500000</td>\n",
              "      <td>1</td>\n",
              "      <td>333</td>\n",
              "    </tr>\n",
              "    <tr>\n",
              "      <th>232318</th>\n",
              "      <td>0.393939</td>\n",
              "      <td>0.869565</td>\n",
              "      <td>0.500000</td>\n",
              "      <td>9</td>\n",
              "      <td>129</td>\n",
              "    </tr>\n",
              "  </tbody>\n",
              "</table>\n",
              "</div>\n",
              "    <div class=\"colab-df-buttons\">\n",
              "\n",
              "  <div class=\"colab-df-container\">\n",
              "    <button class=\"colab-df-convert\" onclick=\"convertToInteractive('df-25e757c1-ecb6-4093-a48b-c444cfa8d71f')\"\n",
              "            title=\"Convert this dataframe to an interactive table.\"\n",
              "            style=\"display:none;\">\n",
              "\n",
              "  <svg xmlns=\"http://www.w3.org/2000/svg\" height=\"24px\" viewBox=\"0 -960 960 960\">\n",
              "    <path d=\"M120-120v-720h720v720H120Zm60-500h600v-160H180v160Zm220 220h160v-160H400v160Zm0 220h160v-160H400v160ZM180-400h160v-160H180v160Zm440 0h160v-160H620v160ZM180-180h160v-160H180v160Zm440 0h160v-160H620v160Z\"/>\n",
              "  </svg>\n",
              "    </button>\n",
              "\n",
              "  <style>\n",
              "    .colab-df-container {\n",
              "      display:flex;\n",
              "      gap: 12px;\n",
              "    }\n",
              "\n",
              "    .colab-df-convert {\n",
              "      background-color: #E8F0FE;\n",
              "      border: none;\n",
              "      border-radius: 50%;\n",
              "      cursor: pointer;\n",
              "      display: none;\n",
              "      fill: #1967D2;\n",
              "      height: 32px;\n",
              "      padding: 0 0 0 0;\n",
              "      width: 32px;\n",
              "    }\n",
              "\n",
              "    .colab-df-convert:hover {\n",
              "      background-color: #E2EBFA;\n",
              "      box-shadow: 0px 1px 2px rgba(60, 64, 67, 0.3), 0px 1px 3px 1px rgba(60, 64, 67, 0.15);\n",
              "      fill: #174EA6;\n",
              "    }\n",
              "\n",
              "    .colab-df-buttons div {\n",
              "      margin-bottom: 4px;\n",
              "    }\n",
              "\n",
              "    [theme=dark] .colab-df-convert {\n",
              "      background-color: #3B4455;\n",
              "      fill: #D2E3FC;\n",
              "    }\n",
              "\n",
              "    [theme=dark] .colab-df-convert:hover {\n",
              "      background-color: #434B5C;\n",
              "      box-shadow: 0px 1px 3px 1px rgba(0, 0, 0, 0.15);\n",
              "      filter: drop-shadow(0px 1px 2px rgba(0, 0, 0, 0.3));\n",
              "      fill: #FFFFFF;\n",
              "    }\n",
              "  </style>\n",
              "\n",
              "    <script>\n",
              "      const buttonEl =\n",
              "        document.querySelector('#df-25e757c1-ecb6-4093-a48b-c444cfa8d71f button.colab-df-convert');\n",
              "      buttonEl.style.display =\n",
              "        google.colab.kernel.accessAllowed ? 'block' : 'none';\n",
              "\n",
              "      async function convertToInteractive(key) {\n",
              "        const element = document.querySelector('#df-25e757c1-ecb6-4093-a48b-c444cfa8d71f');\n",
              "        const dataTable =\n",
              "          await google.colab.kernel.invokeFunction('convertToInteractive',\n",
              "                                                    [key], {});\n",
              "        if (!dataTable) return;\n",
              "\n",
              "        const docLinkHtml = 'Like what you see? Visit the ' +\n",
              "          '<a target=\"_blank\" href=https://colab.research.google.com/notebooks/data_table.ipynb>data table notebook</a>'\n",
              "          + ' to learn more about interactive tables.';\n",
              "        element.innerHTML = '';\n",
              "        dataTable['output_type'] = 'display_data';\n",
              "        await google.colab.output.renderOutput(dataTable, element);\n",
              "        const docLink = document.createElement('div');\n",
              "        docLink.innerHTML = docLinkHtml;\n",
              "        element.appendChild(docLink);\n",
              "      }\n",
              "    </script>\n",
              "  </div>\n",
              "\n",
              "\n",
              "<div id=\"df-c1ce7c42-990e-4ba2-b5c3-66e2a5338072\">\n",
              "  <button class=\"colab-df-quickchart\" onclick=\"quickchart('df-c1ce7c42-990e-4ba2-b5c3-66e2a5338072')\"\n",
              "            title=\"Suggest charts\"\n",
              "            style=\"display:none;\">\n",
              "\n",
              "<svg xmlns=\"http://www.w3.org/2000/svg\" height=\"24px\"viewBox=\"0 0 24 24\"\n",
              "     width=\"24px\">\n",
              "    <g>\n",
              "        <path d=\"M19 3H5c-1.1 0-2 .9-2 2v14c0 1.1.9 2 2 2h14c1.1 0 2-.9 2-2V5c0-1.1-.9-2-2-2zM9 17H7v-7h2v7zm4 0h-2V7h2v10zm4 0h-2v-4h2v4z\"/>\n",
              "    </g>\n",
              "</svg>\n",
              "  </button>\n",
              "\n",
              "<style>\n",
              "  .colab-df-quickchart {\n",
              "      --bg-color: #E8F0FE;\n",
              "      --fill-color: #1967D2;\n",
              "      --hover-bg-color: #E2EBFA;\n",
              "      --hover-fill-color: #174EA6;\n",
              "      --disabled-fill-color: #AAA;\n",
              "      --disabled-bg-color: #DDD;\n",
              "  }\n",
              "\n",
              "  [theme=dark] .colab-df-quickchart {\n",
              "      --bg-color: #3B4455;\n",
              "      --fill-color: #D2E3FC;\n",
              "      --hover-bg-color: #434B5C;\n",
              "      --hover-fill-color: #FFFFFF;\n",
              "      --disabled-bg-color: #3B4455;\n",
              "      --disabled-fill-color: #666;\n",
              "  }\n",
              "\n",
              "  .colab-df-quickchart {\n",
              "    background-color: var(--bg-color);\n",
              "    border: none;\n",
              "    border-radius: 50%;\n",
              "    cursor: pointer;\n",
              "    display: none;\n",
              "    fill: var(--fill-color);\n",
              "    height: 32px;\n",
              "    padding: 0;\n",
              "    width: 32px;\n",
              "  }\n",
              "\n",
              "  .colab-df-quickchart:hover {\n",
              "    background-color: var(--hover-bg-color);\n",
              "    box-shadow: 0 1px 2px rgba(60, 64, 67, 0.3), 0 1px 3px 1px rgba(60, 64, 67, 0.15);\n",
              "    fill: var(--button-hover-fill-color);\n",
              "  }\n",
              "\n",
              "  .colab-df-quickchart-complete:disabled,\n",
              "  .colab-df-quickchart-complete:disabled:hover {\n",
              "    background-color: var(--disabled-bg-color);\n",
              "    fill: var(--disabled-fill-color);\n",
              "    box-shadow: none;\n",
              "  }\n",
              "\n",
              "  .colab-df-spinner {\n",
              "    border: 2px solid var(--fill-color);\n",
              "    border-color: transparent;\n",
              "    border-bottom-color: var(--fill-color);\n",
              "    animation:\n",
              "      spin 1s steps(1) infinite;\n",
              "  }\n",
              "\n",
              "  @keyframes spin {\n",
              "    0% {\n",
              "      border-color: transparent;\n",
              "      border-bottom-color: var(--fill-color);\n",
              "      border-left-color: var(--fill-color);\n",
              "    }\n",
              "    20% {\n",
              "      border-color: transparent;\n",
              "      border-left-color: var(--fill-color);\n",
              "      border-top-color: var(--fill-color);\n",
              "    }\n",
              "    30% {\n",
              "      border-color: transparent;\n",
              "      border-left-color: var(--fill-color);\n",
              "      border-top-color: var(--fill-color);\n",
              "      border-right-color: var(--fill-color);\n",
              "    }\n",
              "    40% {\n",
              "      border-color: transparent;\n",
              "      border-right-color: var(--fill-color);\n",
              "      border-top-color: var(--fill-color);\n",
              "    }\n",
              "    60% {\n",
              "      border-color: transparent;\n",
              "      border-right-color: var(--fill-color);\n",
              "    }\n",
              "    80% {\n",
              "      border-color: transparent;\n",
              "      border-right-color: var(--fill-color);\n",
              "      border-bottom-color: var(--fill-color);\n",
              "    }\n",
              "    90% {\n",
              "      border-color: transparent;\n",
              "      border-bottom-color: var(--fill-color);\n",
              "    }\n",
              "  }\n",
              "</style>\n",
              "\n",
              "  <script>\n",
              "    async function quickchart(key) {\n",
              "      const quickchartButtonEl =\n",
              "        document.querySelector('#' + key + ' button');\n",
              "      quickchartButtonEl.disabled = true;  // To prevent multiple clicks.\n",
              "      quickchartButtonEl.classList.add('colab-df-spinner');\n",
              "      try {\n",
              "        const charts = await google.colab.kernel.invokeFunction(\n",
              "            'suggestCharts', [key], {});\n",
              "      } catch (error) {\n",
              "        console.error('Error during call to suggestCharts:', error);\n",
              "      }\n",
              "      quickchartButtonEl.classList.remove('colab-df-spinner');\n",
              "      quickchartButtonEl.classList.add('colab-df-quickchart-complete');\n",
              "    }\n",
              "    (() => {\n",
              "      let quickchartButtonEl =\n",
              "        document.querySelector('#df-c1ce7c42-990e-4ba2-b5c3-66e2a5338072 button');\n",
              "      quickchartButtonEl.style.display =\n",
              "        google.colab.kernel.accessAllowed ? 'block' : 'none';\n",
              "    })();\n",
              "  </script>\n",
              "</div>\n",
              "\n",
              "    </div>\n",
              "  </div>\n"
            ],
            "application/vnd.google.colaboratory.intrinsic+json": {
              "type": "dataframe",
              "variable_name": "data",
              "summary": "{\n  \"name\": \"data\",\n  \"rows\": 545,\n  \"fields\": [\n    {\n      \"column\": \"AGEP\",\n      \"properties\": {\n        \"dtype\": \"number\",\n        \"std\": 0.21820440102238128,\n        \"min\": 0.0,\n        \"max\": 1.0,\n        \"num_unique_values\": 62,\n        \"samples\": [\n          0.06060606060606061,\n          0.8787878787878789,\n          0.36363636363636365\n        ],\n        \"semantic_type\": \"\",\n        \"description\": \"\"\n      }\n    },\n    {\n      \"column\": \"SCHL\",\n      \"properties\": {\n        \"dtype\": \"number\",\n        \"std\": 0.17966383676036313,\n        \"min\": 0.0,\n        \"max\": 1.0,\n        \"num_unique_values\": 20,\n        \"samples\": [\n          0.4782608695652174,\n          0.6956521739130435,\n          0.6086956521739131\n        ],\n        \"semantic_type\": \"\",\n        \"description\": \"\"\n      }\n    },\n    {\n      \"column\": \"WKHP\",\n      \"properties\": {\n        \"dtype\": \"number\",\n        \"std\": 0.13280638965918368,\n        \"min\": 0.0,\n        \"max\": 0.9999999999999999,\n        \"num_unique_values\": 48,\n        \"samples\": [\n          0.7244897959183673,\n          0.32653061224489793,\n          0.2346938775510204\n        ],\n        \"semantic_type\": \"\",\n        \"description\": \"\"\n      }\n    },\n    {\n      \"column\": \"RAC1P\",\n      \"properties\": {\n        \"dtype\": \"category\",\n        \"num_unique_values\": 7,\n        \"samples\": [\n          8,\n          6,\n          7\n        ],\n        \"semantic_type\": \"\",\n        \"description\": \"\"\n      }\n    },\n    {\n      \"column\": \"RANK\",\n      \"properties\": {\n        \"dtype\": \"number\",\n        \"std\": 157,\n        \"min\": 1,\n        \"max\": 545,\n        \"num_unique_values\": 545,\n        \"samples\": [\n          102,\n          359,\n          44\n        ],\n        \"semantic_type\": \"\",\n        \"description\": \"\"\n      }\n    }\n  ]\n}"
            }
          },
          "metadata": {},
          "execution_count": 25
        }
      ]
    },
    {
      "cell_type": "code",
      "source": [
        "# # @markdown Function that will split feature explanations into different strata.\n",
        "# # @markdown For this question we only look at the top 20% and plot the conributions\n",
        "# # @markdown in 10% strata.\n",
        "\n",
        "# Note that s is the ranks of the individuals (you can find this using the scores_to_ordering utility function, see Lab 8 for an example)\n",
        "def make_boxplot_top20(df, X, s):\n",
        "  buckets = 2\n",
        "  rows = max(s)\n",
        "  df['My Rank'] = s\n",
        "  df['Rank Bucket'] = [\"0-\\n10%\" if math.floor((rank - 1) / (rows / buckets)) == 0 else str(math.floor((rank - 1) / (rows / buckets)) * 10) + \"-\\n\" + str(math.floor(((rank - 1) / (rows / buckets)) + 1) * 10) + \"%\" for rank in df['My Rank']]\n",
        "  df.sort_values(by=['Rank Bucket'],inplace=True)\n",
        "  yaxis_order = list(df.sort_values(by=['Rank Bucket'])['Rank Bucket'].unique())\n",
        "\n",
        "  df = (\n",
        "      df\n",
        "      .drop(columns=[\"My Rank\"])\n",
        "      .melt(id_vars=[\"Rank Bucket\"])\n",
        "      .rename(columns={\"variable\": \"Feature\", \"value\": \"Contribution\"})\n",
        "  )\n",
        "\n",
        "  plot_df = df.copy()\n",
        "\n",
        "  plot_df[\"Rank Bucket\"] = plot_df[\"Rank Bucket\"].str.replace(\"%\", \"\\%\").str.replace(\"<\", \"$<$\")\n",
        "\n",
        "  graph = sns.boxplot(x = plot_df['Rank Bucket'], y = plot_df['Contribution'], hue = plot_df['Feature'], palette = \"Set2\")\n",
        "  sns.move_legend(\n",
        "      graph, \"lower center\", bbox_to_anchor=(1, 1.05), ncol=4, title=None, frameon=False, labels=[\"AGEP\",'WKHP',\"SCHL\"]\n",
        "  )\n",
        "  plt.setp(graph.patches, linewidth=1)\n",
        "  graph.set_xlabel(\"Rank stratum\\n(a)\")\n",
        "\n",
        "  plt.show()"
      ],
      "metadata": {
        "id": "PyBDLcGD71FB"
      },
      "execution_count": 26,
      "outputs": []
    },
    {
      "cell_type": "markdown",
      "source": [
        "Below is a usage example for this function given an X and y as they are created in this assignment:\n",
        "\n",
        "\n",
        "```\n",
        "# NEW\n",
        "sharp_ranking_SCHL_not_white = ShaRP(\n",
        "    qoi=\"rank\",\n",
        "    target_function=score_function_SCHL,\n",
        "    measure=\"shapley\",\n",
        "    sample_size=None,\n",
        "    replace=False,\n",
        "    random_state=42,\n",
        ")\n",
        "X = data_non_white.drop(columns=['RAC1P', 'RANK']).to_numpy()\n",
        "ranks = data_non_white['RANK'].to_numpy()\n",
        "sharp_ranking_SCHL_not_white.fit(X)\n",
        "df = pd.DataFrame(sharp_ranking_SCHL_not_white.all(X))\n",
        "make_boxplot_top20(df,X, ranks)\n",
        "```\n",
        "\n"
      ],
      "metadata": {
        "id": "Qt32tLEHqC6T"
      }
    },
    {
      "cell_type": "code",
      "source": [
        "# Part (b)(i) - Split the top-20% into two new dataframes (white and non-white) using the race feature\n",
        "\n",
        "# Calculate the number of individuals that represent the top 20%\n",
        "top_20_percent = int(0.2 * data.shape[0])\n",
        "print(f\"Top 20% consists of {top_20_percent} individuals\")\n",
        "\n",
        "# Get the indices of the top 20% ranked individuals\n",
        "top_20_indices = order_SCHL[:top_20_percent]\n",
        "\n",
        "# Create dataframe with only the top 20% individuals\n",
        "data_top_20 = data.iloc[top_20_indices].copy()\n",
        "\n",
        "# Split by race (race code 1 is White)\n",
        "data_white = data_top_20[data_top_20['RAC1P'] == 1].copy()\n",
        "data_non_white = data_top_20[data_top_20['RAC1P'] != 1].copy()\n",
        "\n",
        "print(f\"Number of white individuals in top 20%: {len(data_white)}\")\n",
        "print(f\"Number of non-white individuals in top 20%: {len(data_non_white)}\")\n",
        "\n",
        "# Create a ShaRP object for the white dataframe\n",
        "sharp_ranking_SCHL_white = ShaRP(\n",
        "    qoi=\"rank\",\n",
        "    target_function=score_function_SCHL,\n",
        "    measure=\"shapley\",\n",
        "    sample_size=None,  # No approximation needed for small samples\n",
        "    replace=False,\n",
        "    random_state=42,\n",
        ")\n",
        "\n",
        "# Prepare data for white group\n",
        "X_white = data_white.drop(columns=['RAC1P', 'RANK']).to_numpy()\n",
        "ranks_white = data_white['RANK'].to_numpy()\n",
        "sharp_ranking_SCHL_white.fit(X_white)\n",
        "\n",
        "# Create a ShaRP object for the non-white dataframe\n",
        "sharp_ranking_SCHL_non_white = ShaRP(\n",
        "    qoi=\"rank\",\n",
        "    target_function=score_function_SCHL,\n",
        "    measure=\"shapley\",\n",
        "    sample_size=None,  # No approximation needed for small samples\n",
        "    replace=False,\n",
        "    random_state=42,\n",
        ")\n",
        "\n",
        "# Prepare data for non-white group\n",
        "X_non_white = data_non_white.drop(columns=['RAC1P', 'RANK']).to_numpy()\n",
        "ranks_non_white = data_non_white['RANK'].to_numpy()\n",
        "sharp_ranking_SCHL_non_white.fit(X_non_white)\n"
      ],
      "metadata": {
        "colab": {
          "base_uri": "https://localhost:8080/"
        },
        "id": "hm80blwycsKU",
        "outputId": "2ca3b2db-2120-4e47-db75-f630ba0dabf5"
      },
      "execution_count": 27,
      "outputs": [
        {
          "output_type": "stream",
          "name": "stdout",
          "text": [
            "Top 20% consists of 109 individuals\n",
            "Number of white individuals in top 20%: 57\n",
            "Number of non-white individuals in top 20%: 52\n"
          ]
        }
      ]
    },
    {
      "cell_type": "markdown",
      "source": [
        "### Part (ii)"
      ],
      "metadata": {
        "id": "OXqsAA0jqtOG"
      }
    },
    {
      "cell_type": "code",
      "source": [
        "# Part (b)(ii) - Use make_boxplot_top20 to visualize feature importance for each group\n",
        "\n",
        "# Define feature names\n",
        "feature_names = ['AGEP', 'SCHL', 'WKHP']\n",
        "\n",
        "# Get all shapley values for white individuals\n",
        "all_explanations_white = sharp_ranking_SCHL_white.all(X_white)\n",
        "df_white = pd.DataFrame(all_explanations_white, columns=feature_names)\n",
        "df_white['index'] = range(len(df_white))\n",
        "\n",
        "# Get all shapley values for non-white individuals\n",
        "all_explanations_non_white = sharp_ranking_SCHL_non_white.all(X_non_white)\n",
        "df_non_white = pd.DataFrame(all_explanations_non_white, columns=feature_names)\n",
        "df_non_white['index'] = range(len(df_non_white))\n",
        "\n",
        "# Use a simpler approach if make_boxplot_top20 is causing issues\n",
        "# For white individuals\n",
        "plt.figure(figsize=(12, 8))\n",
        "# Either fix the make_boxplot_top20 function call by adding required arguments:\n",
        "make_boxplot_top20(df_white, X_white, ranks_white,\n",
        "                   feature_names=feature_names,\n",
        "                   title=\"Feature Importance for White Individuals in Top 20%\")\n",
        "plt.tight_layout()\n",
        "plt.show()\n",
        "\n",
        "# For non-white individuals\n",
        "plt.figure(figsize=(12, 8))\n",
        "make_boxplot_top20(df_non_white, X_non_white, ranks_non_white,\n",
        "                   feature_names=feature_names,\n",
        "                   title=\"Feature Importance for Non-White Individuals in Top 20%\")\n",
        "plt.tight_layout()\n",
        "plt.show()\n",
        "\n",
        "# Alternative visualization if make_boxplot_top20 still doesn't work:\n",
        "# We can create our own box plots using just matplotlib/seaborn\n",
        "if False:  # Set to True if the above doesn't work\n",
        "    # For white individuals\n",
        "    plt.figure(figsize=(12, 6))\n",
        "    # Melt the dataframe to get it in the right format for seaborn\n",
        "    melted_white = pd.melt(df_white, id_vars=['index'], value_vars=feature_names,\n",
        "                          var_name='Feature', value_name='Importance')\n",
        "    sns.boxplot(x='Feature', y='Importance', data=melted_white)\n",
        "    plt.title(\"Feature Importance for White Individuals in Top 20%\")\n",
        "    plt.grid(axis='y', alpha=0.3)\n",
        "    plt.tight_layout()\n",
        "    plt.show()\n",
        "\n",
        "    # For non-white individuals\n",
        "    plt.figure(figsize=(12, 6))\n",
        "    melted_non_white = pd.melt(df_non_white, id_vars=['index'], value_vars=feature_names,\n",
        "                              var_name='Feature', value_name='Importance')\n",
        "    sns.boxplot(x='Feature', y='Importance', data=melted_non_white)\n",
        "    plt.title(\"Feature Importance for Non-White Individuals in Top 20%\")\n",
        "    plt.grid(axis='y', alpha=0.3)\n",
        "    plt.tight_layout()\n",
        "    plt.show()"
      ],
      "metadata": {
        "colab": {
          "base_uri": "https://localhost:8080/",
          "height": 1000
        },
        "id": "IY0STpownGvA",
        "outputId": "0e2d31cf-fca4-4fb1-b8a0-8495ad0f6bd4"
      },
      "execution_count": 37,
      "outputs": [
        {
          "output_type": "stream",
          "name": "stdout",
          "text": [
            "Top 20% consists of 109 individuals\n",
            "Number of white individuals in top 20%: 57\n",
            "Number of non-white individuals in top 20%: 52\n"
          ]
        },
        {
          "output_type": "display_data",
          "data": {
            "text/plain": [
              "<Figure size 1200x800 with 0 Axes>"
            ]
          },
          "metadata": {}
        },
        {
          "output_type": "display_data",
          "data": {
            "text/plain": [
              "<Figure size 1200x800 with 1 Axes>"
            ],
            "image/png": "[encoded data removed]"
          },
          "metadata": {}
        },
        {
          "output_type": "display_data",
          "data": {
            "text/plain": [
              "<Figure size 640x480 with 0 Axes>"
            ]
          },
          "metadata": {}
        },
        {
          "output_type": "display_data",
          "data": {
            "text/plain": [
              "<Figure size 1200x800 with 0 Axes>"
            ]
          },
          "metadata": {}
        },
        {
          "output_type": "display_data",
          "data": {
            "text/plain": [
              "<Figure size 1200x800 with 1 Axes>"
            ],
            "image/png": "[encoded data removed]"
          },
          "metadata": {}
        },
        {
          "output_type": "display_data",
          "data": {
            "text/plain": [
              "<Figure size 640x480 with 0 Axes>"
            ]
          },
          "metadata": {}
        }
      ]
    },
    {
      "cell_type": "markdown",
      "source": [
        "This is the plot I write b iii and b iv on\n",
        "I get this the first time and ran into errors later"
      ],
      "metadata": {
        "id": "v_C_A9bToEKg"
      }
    },
    {
      "cell_type": "markdown",
      "source": [
        "![image.png](data:image/png;base64,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)"
      ],
      "metadata": {
        "id": "ZqeVO1pRnt7s"
      }
    },
    {
      "cell_type": "markdown",
      "source": [
        "### Part (iii)\n",
        "Compare feature importance between the 0-10% and 10-20% for each racial group\n",
        "When comparing the 0-10% and 10-20% strata within the top applicants:\n",
        "\n",
        "For the 0-10% stratum (higher ranked individuals):\n",
        "\n",
        "SCHL (education) has a strong positive contribution, with most values being positive\n",
        "AGEP (age) generally has a moderate positive contribution\n",
        "WKHP (work hours) shows a small positive contribution\n",
        "The index feature (representing the individuals) has the largest variance and overall contribution\n",
        "\n",
        "\n",
        "For the 10-20% stratum (lower ranked individuals):\n",
        "\n",
        "SCHL has shifted to a negative contribution, suggesting education is less favorable for these individuals\n",
        "AGEP also shows a negative trend\n",
        "WKHP remains relatively neutral but slightly negative\n",
        "The index feature continues to have the largest variance and strongest positive impact\n",
        "\n",
        "\n",
        "\n",
        "The most notable difference between strata is the reversal in contribution direction for SCHL and AGEP - features that contribute positively to ranking for the top 10% contribute negatively for the next 10%. This indicates a clear stratification effect where the importance and impact of features change significantly across different ranking tiers.\n",
        "\n",
        "\n",
        "### Part (iv) - Compare feature importance across racial groups\n",
        "This boxplot appears to represent feature importance for one racial group (either white or non-white). Without seeing the comparison plot for the other racial group, I can make these observations about potential cross-racial differences:\n",
        "\n",
        "The significant positive contribution of SCHL in the top 10% and its negative contribution in the 10-20% range suggests a strong emphasis on education in the ranking model. This could potentially create disparate impacts if educational attainment differs between racial groups.\n",
        "The shift in AGEP's contribution between strata could also have differential impacts on racial groups with different age distributions.\n",
        "The relatively small contribution of WKHP might be more equitable across racial groups, assuming work hours are more evenly distributed.\n",
        "The large variance in the index feature suggests considerable heterogeneity among individuals within each group, which could either amplify or mask racial differences.\n",
        "\n",
        "In general, whenever a feature's importance varies significantly across ranking tiers, there's potential for disparate impact if the underlying feature distributions differ between racial groups. The dramatic shift in SCHL's importance between tiers would be particularly concerning if educational attainment differs systematically by race."
      ],
      "metadata": {
        "id": "4BZPRgssrj7C"
      }
    },
    {
      "cell_type": "markdown",
      "source": [
        "# Part (c)\n",
        "\n",
        "Now we will try to compare the feature importance of two separate people (the 200th and the 300th). Select two samples and calculate their individual feature contributions under any QoI. Like in the question above, fix the ranking function to the first one to do so. Late visualize a way to explain why one is ranked higher than the other!\n",
        "\n",
        "**Note:** use the full dataset (not the datasets for each race) and use the `score_function_SCHL` ranker."
      ],
      "metadata": {
        "id": "Pg83qFN9_6pa"
      }
    },
    {
      "cell_type": "code",
      "source": [
        "# --- Part (c) Fixed ---\n",
        "\n",
        "# Construct feature matrix X using only relevant numerical columns\n",
        "feature_names = ['AGEP', 'SCHL', 'WKHP']\n",
        "X = data[feature_names].to_numpy()\n",
        "\n",
        "# Ensure ShaRP is fitted\n",
        "sharp_ranking_SCHL.fit(X)\n",
        "\n",
        "# Select the index of the 200th and 300th ranked individuals\n",
        "i200 = order_SCHL[199]\n",
        "i300 = order_SCHL[299]\n",
        "print(f\"Individual at rank 200 has index: {i200}\")\n",
        "print(f\"Individual at rank 300 has index: {i300}\")\n",
        "\n",
        "# Get all explanations\n",
        "all_explanations_SCHL = sharp_ranking_SCHL.all(X)\n",
        "\n",
        "# Extract contributions\n",
        "contributions_i200 = all_explanations_SCHL[i200]\n",
        "contributions_i300 = all_explanations_SCHL[i300]\n",
        "\n",
        "# Plot bar chart comparison\n",
        "import matplotlib.pyplot as plt\n",
        "import numpy as np\n",
        "\n",
        "fig, ax = plt.subplots(1, 2, figsize=(14, 6))\n",
        "x_pos = np.arange(len(feature_names))\n",
        "width = 0.35\n",
        "\n",
        "# Bar chart - contributions\n",
        "ax[0].bar(x_pos - width/2, contributions_i200, width, label='Rank 200')\n",
        "ax[0].bar(x_pos + width/2, contributions_i300, width, label='Rank 300')\n",
        "ax[0].set_ylabel('Contribution to Rank')\n",
        "ax[0].set_title('Feature Contributions Comparison')\n",
        "ax[0].set_xticks(x_pos)\n",
        "ax[0].set_xticklabels(feature_names)\n",
        "ax[0].legend()\n",
        "\n",
        "# Feature values\n",
        "feature_values_i200 = X[i200]\n",
        "feature_values_i300 = X[i300]\n",
        "\n",
        "# Bar chart - actual feature values\n",
        "ax[1].bar(x_pos - width/2, feature_values_i200, width, label='Rank 200')\n",
        "ax[1].bar(x_pos + width/2, feature_values_i300, width, label='Rank 300')\n",
        "ax[1].set_ylabel('Feature Value')\n",
        "ax[1].set_title('Feature Values Comparison')\n",
        "ax[1].set_xticks(x_pos)\n",
        "ax[1].set_xticklabels(feature_names)\n",
        "ax[1].legend()\n",
        "\n",
        "plt.tight_layout()\n",
        "plt.show()\n"
      ],
      "metadata": {
        "colab": {
          "base_uri": "https://localhost:8080/",
          "height": 411
        },
        "id": "FonaEsFdc_Gc",
        "outputId": "4deb8416-ee5a-4809-f075-393b59835fd5"
      },
      "execution_count": 29,
      "outputs": [
        {
          "output_type": "stream",
          "name": "stdout",
          "text": [
            "Individual at rank 200 has index: 522\n",
            "Individual at rank 300 has index: 383\n"
          ]
        },
        {
          "output_type": "display_data",
          "data": {
            "text/plain": [
              "<Figure size 1400x600 with 2 Axes>"
            ],
            "image/png": "[encoded data removed]"
          },
          "metadata": {}
        }
      ]
    }
  ]
}